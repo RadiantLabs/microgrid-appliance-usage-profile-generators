{
 "cells": [
  {
   "cell_type": "markdown",
   "metadata": {},
   "source": [
    "# Create yearly mill usage profile based on measured usage\n",
    "\n",
    "This notebook will follow a very similar approach to the welder notebook here: https://github.com/RadiantLabs/microgrid-appliance-analysis/blob/master/scripts/usage_profiles/welder_usage_profile.ipynb \n",
    "\n",
    "I will include a lot less context in this notebook for now. I can fill it out later if needed.\n",
    "\n",
    "### Definitions\n",
    "**Usage Profile**: A usage profile is a unitless series of how often the mill is used on an hourly basis throughout a year. Being unitless allows us to apply costs, power or other factors to generate load, throughput or cost profiles. \n",
    "\n",
    "**day_hour**: Monday at 2pm is a single `day_hour` for example. Monday at 3pm is a different `day_hour`. There are 24 hours x 7 days = 168 `day_hour`s.\n",
    "\n",
    "### General Steps\n",
    "1. Import measured usage data from a mill. This data is in 2 minute increments and the number of mill revolutions every 2 minutes.\n",
    "2. Create a unitless utilization factor based on RPM. Create a separate factor for both kW and grain (production) throughput.\n",
    "3. Resample 2 minute data to 1 hour data, summing new utilization factors. \n",
    "4. Group data by `day_hour`s and export for web app\n",
    "5. Generate a yearly profile by randomly sampling measured `day_hour`s and applying them to the rest of the year.\n",
    "6. Compare stats of yearly usage profile to measured usage profile to make sure we made reasonable assumptions\n",
    "\n",
    "We probably don't need to interpolate, since we have 5-6 measured values per `day_hour`\n",
    "\n",
    "### Questions and TODOs\n",
    "* Set column header for datetime (app needs this)\n",
    "* Understand why operators run mills consistently at half RPMs or what the full rated load is:\n",
    "> Amanda: is the engine running harder than full rated load during these times? I think so, because it would then mean that most of the activity is happening around 80% of full rated load, which is normal for a diesel engine\n",
    "* Find performance curves:\n",
    "    1. rpm-to-power: From common mills (https://www.alibaba.com/product-detail/Changfa-type-20-hp-S1115-single_60629667381.html?spm=a2700.7724857.normalList.30.48f321e0kzd6H9), we can see that 16.2kW = 2200 RPM which would imply this mill is running at half speed most of the time. Also, we don't know the kW at 1100 where these mills are mostly running \n",
    "    2. rpm-to-grain-throughput\n",
    "\n",
    "\n",
    "### Running this notebook\n",
    "Jupyter notebooks are very flexible but have problems with out-of-order function executions.\n",
    "For example, dropping a column once and then trying to drop the same column again because\n",
    "you're evaluating the same cell will throw an error. \n",
    "\n",
    "Go to Cell > Run All from the menu often or if having problems. For final output, always run it."
   ]
  },
  {
   "cell_type": "markdown",
   "metadata": {},
   "source": [
    "## Setup & Library Imports"
   ]
  },
  {
   "cell_type": "code",
   "execution_count": 1,
   "metadata": {},
   "outputs": [
    {
     "data": {
      "text/plain": [
       "'0.23.4'"
      ]
     },
     "execution_count": 1,
     "metadata": {},
     "output_type": "execute_result"
    }
   ],
   "source": [
    "# Reset all variables so that we can 'run all cells' and not get unused variables hanging around\n",
    "%reset -f\n",
    "\n",
    "# Most of this comes with anaconda distribution. I thinkt the only one \n",
    "# you have to install is:\n",
    "# conda install pivottablejs\n",
    "import pandas as pd\n",
    "from scipy.stats import mode\n",
    "from pivottablejs import pivot_ui\n",
    "from collections import defaultdict\n",
    "from functools import partial\n",
    "import random\n",
    "import json\n",
    "import pytz\n",
    "\n",
    "# Should have pandas 0.23 or greater. If not and you're using Anaconda for packages, \n",
    "# do this in the terminal: `conda update pandas`\n",
    "pd.__version__    "
   ]
  },
  {
   "cell_type": "markdown",
   "metadata": {},
   "source": [
    "## Import Mill Data"
   ]
  },
  {
   "cell_type": "code",
   "execution_count": 2,
   "metadata": {},
   "outputs": [],
   "source": [
    "# Uncomment / comment based on the mill you want to analyze\n",
    "\n",
    "## Rice Mill (Original)\n",
    "# excel_file_path = 'inputs/RiceHulling_LP_Tanzania 20180908-20181018.xlsx'\n",
    "# sheet_name = 'RiceHulling_LP_Tanzania'\n",
    "# output_generator_kw_data_name = 'output/rice_mill_kw_generator_data.json'\n",
    "# output_generator_grain_data_name = 'output/rice_mill_grain_generator_data.json'\n",
    "# output_profile_name = 'output/rice_mill_usage_profile.csv'\n",
    "\n",
    "## Rice Mill (UTC)\n",
    "excel_file_path = 'inputs/RiceHulling_LP_Tanzania 20180908-20181110_UTC.xlsx'\n",
    "sheet_name = 'download (1)'\n",
    "output_generator_kw_data_name = 'output/rice_mill_kw_generator_data.json'\n",
    "output_generator_grain_data_name = 'output/rice_mill_grain_generator_data.json'\n",
    "output_profile_name = 'output/rice_mill_usage_profile.csv'"
   ]
  },
  {
   "cell_type": "code",
   "execution_count": 3,
   "metadata": {},
   "outputs": [
    {
     "data": {
      "text/html": [
       "<div>\n",
       "<style scoped>\n",
       "    .dataframe tbody tr th:only-of-type {\n",
       "        vertical-align: middle;\n",
       "    }\n",
       "\n",
       "    .dataframe tbody tr th {\n",
       "        vertical-align: top;\n",
       "    }\n",
       "\n",
       "    .dataframe thead th {\n",
       "        text-align: right;\n",
       "    }\n",
       "</style>\n",
       "<table border=\"1\" class=\"dataframe\">\n",
       "  <thead>\n",
       "    <tr style=\"text-align: right;\">\n",
       "      <th></th>\n",
       "      <th>time_utc</th>\n",
       "      <th>2min_count</th>\n",
       "    </tr>\n",
       "  </thead>\n",
       "  <tbody>\n",
       "    <tr>\n",
       "      <th>0</th>\n",
       "      <td>2018-09-01 19:47:22.000</td>\n",
       "      <td>10</td>\n",
       "    </tr>\n",
       "    <tr>\n",
       "      <th>1</th>\n",
       "      <td>2018-09-01 19:49:22.124</td>\n",
       "      <td>29</td>\n",
       "    </tr>\n",
       "    <tr>\n",
       "      <th>2</th>\n",
       "      <td>2018-09-07 14:38:44.000</td>\n",
       "      <td>0</td>\n",
       "    </tr>\n",
       "    <tr>\n",
       "      <th>3</th>\n",
       "      <td>2018-09-07 14:40:44.000</td>\n",
       "      <td>0</td>\n",
       "    </tr>\n",
       "    <tr>\n",
       "      <th>4</th>\n",
       "      <td>2018-09-07 14:42:44.000</td>\n",
       "      <td>0</td>\n",
       "    </tr>\n",
       "  </tbody>\n",
       "</table>\n",
       "</div>"
      ],
      "text/plain": [
       "                 time_utc  2min_count\n",
       "0 2018-09-01 19:47:22.000          10\n",
       "1 2018-09-01 19:49:22.124          29\n",
       "2 2018-09-07 14:38:44.000           0\n",
       "3 2018-09-07 14:40:44.000           0\n",
       "4 2018-09-07 14:42:44.000           0"
      ]
     },
     "execution_count": 3,
     "metadata": {},
     "output_type": "execute_result"
    }
   ],
   "source": [
    "# Import Excel file, specify the sheet & import it into a Pandas Dataframe.\n",
    "# df is short for Pandas DataFrame - it makes it clearer what this datastructure is\n",
    "df_measured_2min = pd.read_excel(excel_file_path, sheet_name=sheet_name)\n",
    "\n",
    "# Rename columns so they are shorter and easier to work with.\n",
    "df_measured_2min = df_measured_2min.rename(columns={'row': 'time_utc', 'value': '2min_count'})\n",
    "\n",
    "# Keep only relevant columns\n",
    "df_measured_2min = df_measured_2min[['time_utc', '2min_count']]\n",
    "df_measured_2min.head()"
   ]
  },
  {
   "cell_type": "code",
   "execution_count": 4,
   "metadata": {},
   "outputs": [
    {
     "data": {
      "text/plain": [
       "(45926, 2)"
      ]
     },
     "execution_count": 4,
     "metadata": {},
     "output_type": "execute_result"
    }
   ],
   "source": [
    "# (rows, columns)\n",
    "df_measured_2min.shape "
   ]
  },
  {
   "cell_type": "markdown",
   "metadata": {},
   "source": [
    "## Convert Timezone"
   ]
  },
  {
   "cell_type": "code",
   "execution_count": 5,
   "metadata": {},
   "outputs": [],
   "source": [
    "# To see all timezones available (but select only the first 55 to see Africa): \n",
    "# pytz.all_timezones[0:55]  "
   ]
  },
  {
   "cell_type": "code",
   "execution_count": 6,
   "metadata": {},
   "outputs": [],
   "source": [
    "# There was no Tanzania listed. Nairobi is +3 which is the same as Tanzania\n",
    "# There should not be a problem with daylight savings time - from my research neither observe it\n",
    "tanzania_tz = pytz.timezone('Africa/Nairobi')"
   ]
  },
  {
   "cell_type": "code",
   "execution_count": 7,
   "metadata": {},
   "outputs": [],
   "source": [
    "# Convert date string to proper datetime so we can work with timezones\n",
    "df_measured_2min['time_utc'] = pd.to_datetime(df_measured_2min['time_utc'])"
   ]
  },
  {
   "cell_type": "code",
   "execution_count": 8,
   "metadata": {
    "scrolled": true
   },
   "outputs": [
    {
     "data": {
      "text/html": [
       "<div>\n",
       "<style scoped>\n",
       "    .dataframe tbody tr th:only-of-type {\n",
       "        vertical-align: middle;\n",
       "    }\n",
       "\n",
       "    .dataframe tbody tr th {\n",
       "        vertical-align: top;\n",
       "    }\n",
       "\n",
       "    .dataframe thead th {\n",
       "        text-align: right;\n",
       "    }\n",
       "</style>\n",
       "<table border=\"1\" class=\"dataframe\">\n",
       "  <thead>\n",
       "    <tr style=\"text-align: right;\">\n",
       "      <th></th>\n",
       "      <th>time_utc</th>\n",
       "      <th>2min_count</th>\n",
       "      <th>time_local</th>\n",
       "    </tr>\n",
       "  </thead>\n",
       "  <tbody>\n",
       "    <tr>\n",
       "      <th>0</th>\n",
       "      <td>2018-09-01 19:47:22.000</td>\n",
       "      <td>10</td>\n",
       "      <td>2018-09-01 22:47:22+03:00</td>\n",
       "    </tr>\n",
       "    <tr>\n",
       "      <th>1</th>\n",
       "      <td>2018-09-01 19:49:22.124</td>\n",
       "      <td>29</td>\n",
       "      <td>2018-09-01 22:49:22.124000+03:00</td>\n",
       "    </tr>\n",
       "    <tr>\n",
       "      <th>2</th>\n",
       "      <td>2018-09-07 14:38:44.000</td>\n",
       "      <td>0</td>\n",
       "      <td>2018-09-07 17:38:44+03:00</td>\n",
       "    </tr>\n",
       "    <tr>\n",
       "      <th>3</th>\n",
       "      <td>2018-09-07 14:40:44.000</td>\n",
       "      <td>0</td>\n",
       "      <td>2018-09-07 17:40:44+03:00</td>\n",
       "    </tr>\n",
       "    <tr>\n",
       "      <th>4</th>\n",
       "      <td>2018-09-07 14:42:44.000</td>\n",
       "      <td>0</td>\n",
       "      <td>2018-09-07 17:42:44+03:00</td>\n",
       "    </tr>\n",
       "  </tbody>\n",
       "</table>\n",
       "</div>"
      ],
      "text/plain": [
       "                 time_utc  2min_count                       time_local\n",
       "0 2018-09-01 19:47:22.000          10        2018-09-01 22:47:22+03:00\n",
       "1 2018-09-01 19:49:22.124          29 2018-09-01 22:49:22.124000+03:00\n",
       "2 2018-09-07 14:38:44.000           0        2018-09-07 17:38:44+03:00\n",
       "3 2018-09-07 14:40:44.000           0        2018-09-07 17:40:44+03:00\n",
       "4 2018-09-07 14:42:44.000           0        2018-09-07 17:42:44+03:00"
      ]
     },
     "execution_count": 8,
     "metadata": {},
     "output_type": "execute_result"
    }
   ],
   "source": [
    "# Add local time\n",
    "df_measured_2min['time_local'] = df_measured_2min['time_utc'].dt.tz_localize('utc').dt.tz_convert(tanzania_tz)\n",
    "df_measured_2min = df_measured_2min\n",
    "df_measured_2min.head()"
   ]
  },
  {
   "cell_type": "code",
   "execution_count": 9,
   "metadata": {},
   "outputs": [],
   "source": [
    "# Helper functions for making and matching day_hour columns\n",
    "\n",
    "def shorten_day_name(day_string):\n",
    "    \"\"\"Shorten a day name to the first 4 letters (1Saturday => 1sat)\n",
    "    This requires a string passed in.\n",
    "    \"\"\"\n",
    "    return day_string[0:4].lower()\n",
    "\n",
    "def composite_val(day_name, hour):\n",
    "    \"\"\"Generate a composite string value that can be used for dictionary \n",
    "    keys or other uses.\n",
    "    For example, 1Saturday at 10am => 1sat_10\n",
    "    \"\"\"\n",
    "    padded_hour = str(hour).zfill(2)\n",
    "    return \"{}_{}\".format(shorten_day_name(day_name), padded_hour)"
   ]
  },
  {
   "cell_type": "markdown",
   "metadata": {},
   "source": [
    "## Calculate RPM\n",
    "The mill sensor measures rotations every 2 minutes. Calculate RPMs by dividing by 2"
   ]
  },
  {
   "cell_type": "code",
   "execution_count": 10,
   "metadata": {
    "scrolled": true
   },
   "outputs": [
    {
     "data": {
      "text/html": [
       "<div>\n",
       "<style scoped>\n",
       "    .dataframe tbody tr th:only-of-type {\n",
       "        vertical-align: middle;\n",
       "    }\n",
       "\n",
       "    .dataframe tbody tr th {\n",
       "        vertical-align: top;\n",
       "    }\n",
       "\n",
       "    .dataframe thead th {\n",
       "        text-align: right;\n",
       "    }\n",
       "</style>\n",
       "<table border=\"1\" class=\"dataframe\">\n",
       "  <thead>\n",
       "    <tr style=\"text-align: right;\">\n",
       "      <th></th>\n",
       "      <th>time_utc</th>\n",
       "      <th>2min_count</th>\n",
       "      <th>time_local</th>\n",
       "      <th>rpm</th>\n",
       "    </tr>\n",
       "  </thead>\n",
       "  <tbody>\n",
       "    <tr>\n",
       "      <th>36900</th>\n",
       "      <td>2018-10-28 19:27:26</td>\n",
       "      <td>0</td>\n",
       "      <td>2018-10-28 22:27:26+03:00</td>\n",
       "      <td>0</td>\n",
       "    </tr>\n",
       "    <tr>\n",
       "      <th>21252</th>\n",
       "      <td>2018-10-07 02:20:16</td>\n",
       "      <td>0</td>\n",
       "      <td>2018-10-07 05:20:16+03:00</td>\n",
       "      <td>0</td>\n",
       "    </tr>\n",
       "    <tr>\n",
       "      <th>21181</th>\n",
       "      <td>2018-10-06 23:58:16</td>\n",
       "      <td>0</td>\n",
       "      <td>2018-10-07 02:58:16+03:00</td>\n",
       "      <td>0</td>\n",
       "    </tr>\n",
       "    <tr>\n",
       "      <th>9907</th>\n",
       "      <td>2018-09-21 08:29:17</td>\n",
       "      <td>0</td>\n",
       "      <td>2018-09-21 11:29:17+03:00</td>\n",
       "      <td>0</td>\n",
       "    </tr>\n",
       "    <tr>\n",
       "      <th>19960</th>\n",
       "      <td>2018-10-05 07:16:16</td>\n",
       "      <td>0</td>\n",
       "      <td>2018-10-05 10:16:16+03:00</td>\n",
       "      <td>0</td>\n",
       "    </tr>\n",
       "    <tr>\n",
       "      <th>20857</th>\n",
       "      <td>2018-10-06 13:10:16</td>\n",
       "      <td>0</td>\n",
       "      <td>2018-10-06 16:10:16+03:00</td>\n",
       "      <td>0</td>\n",
       "    </tr>\n",
       "    <tr>\n",
       "      <th>4832</th>\n",
       "      <td>2018-09-14 07:25:42</td>\n",
       "      <td>0</td>\n",
       "      <td>2018-09-14 10:25:42+03:00</td>\n",
       "      <td>0</td>\n",
       "    </tr>\n",
       "    <tr>\n",
       "      <th>38972</th>\n",
       "      <td>2018-10-31 16:17:34</td>\n",
       "      <td>0</td>\n",
       "      <td>2018-10-31 19:17:34+03:00</td>\n",
       "      <td>0</td>\n",
       "    </tr>\n",
       "    <tr>\n",
       "      <th>19918</th>\n",
       "      <td>2018-10-05 05:52:16</td>\n",
       "      <td>0</td>\n",
       "      <td>2018-10-05 08:52:16+03:00</td>\n",
       "      <td>0</td>\n",
       "    </tr>\n",
       "    <tr>\n",
       "      <th>9620</th>\n",
       "      <td>2018-09-20 22:55:17</td>\n",
       "      <td>0</td>\n",
       "      <td>2018-09-21 01:55:17+03:00</td>\n",
       "      <td>0</td>\n",
       "    </tr>\n",
       "  </tbody>\n",
       "</table>\n",
       "</div>"
      ],
      "text/plain": [
       "                 time_utc  2min_count                time_local  rpm\n",
       "36900 2018-10-28 19:27:26           0 2018-10-28 22:27:26+03:00    0\n",
       "21252 2018-10-07 02:20:16           0 2018-10-07 05:20:16+03:00    0\n",
       "21181 2018-10-06 23:58:16           0 2018-10-07 02:58:16+03:00    0\n",
       "9907  2018-09-21 08:29:17           0 2018-09-21 11:29:17+03:00    0\n",
       "19960 2018-10-05 07:16:16           0 2018-10-05 10:16:16+03:00    0\n",
       "20857 2018-10-06 13:10:16           0 2018-10-06 16:10:16+03:00    0\n",
       "4832  2018-09-14 07:25:42           0 2018-09-14 10:25:42+03:00    0\n",
       "38972 2018-10-31 16:17:34           0 2018-10-31 19:17:34+03:00    0\n",
       "19918 2018-10-05 05:52:16           0 2018-10-05 08:52:16+03:00    0\n",
       "9620  2018-09-20 22:55:17           0 2018-09-21 01:55:17+03:00    0"
      ]
     },
     "execution_count": 10,
     "metadata": {},
     "output_type": "execute_result"
    }
   ],
   "source": [
    "def count_to_rpm(count):\n",
    "    return round(count / 2)\n",
    "\n",
    "df_measured_2min['rpm'] = df_measured_2min['2min_count'].apply(count_to_rpm)\n",
    "df_measured_2min.sample(10)"
   ]
  },
  {
   "cell_type": "markdown",
   "metadata": {},
   "source": [
    "## Explore Data"
   ]
  },
  {
   "cell_type": "code",
   "execution_count": 11,
   "metadata": {
    "scrolled": true
   },
   "outputs": [
    {
     "data": {
      "text/html": [
       "<div>\n",
       "<style scoped>\n",
       "    .dataframe tbody tr th:only-of-type {\n",
       "        vertical-align: middle;\n",
       "    }\n",
       "\n",
       "    .dataframe tbody tr th {\n",
       "        vertical-align: top;\n",
       "    }\n",
       "\n",
       "    .dataframe thead th {\n",
       "        text-align: right;\n",
       "    }\n",
       "</style>\n",
       "<table border=\"1\" class=\"dataframe\">\n",
       "  <thead>\n",
       "    <tr style=\"text-align: right;\">\n",
       "      <th></th>\n",
       "      <th>2min_count</th>\n",
       "      <th>rpm</th>\n",
       "    </tr>\n",
       "  </thead>\n",
       "  <tbody>\n",
       "    <tr>\n",
       "      <th>count</th>\n",
       "      <td>45926.000000</td>\n",
       "      <td>45926.000000</td>\n",
       "    </tr>\n",
       "    <tr>\n",
       "      <th>mean</th>\n",
       "      <td>130.776793</td>\n",
       "      <td>65.387841</td>\n",
       "    </tr>\n",
       "    <tr>\n",
       "      <th>std</th>\n",
       "      <td>487.376202</td>\n",
       "      <td>243.687506</td>\n",
       "    </tr>\n",
       "    <tr>\n",
       "      <th>min</th>\n",
       "      <td>0.000000</td>\n",
       "      <td>0.000000</td>\n",
       "    </tr>\n",
       "    <tr>\n",
       "      <th>25%</th>\n",
       "      <td>0.000000</td>\n",
       "      <td>0.000000</td>\n",
       "    </tr>\n",
       "    <tr>\n",
       "      <th>50%</th>\n",
       "      <td>0.000000</td>\n",
       "      <td>0.000000</td>\n",
       "    </tr>\n",
       "    <tr>\n",
       "      <th>75%</th>\n",
       "      <td>0.000000</td>\n",
       "      <td>0.000000</td>\n",
       "    </tr>\n",
       "    <tr>\n",
       "      <th>max</th>\n",
       "      <td>2319.000000</td>\n",
       "      <td>1160.000000</td>\n",
       "    </tr>\n",
       "  </tbody>\n",
       "</table>\n",
       "</div>"
      ],
      "text/plain": [
       "         2min_count           rpm\n",
       "count  45926.000000  45926.000000\n",
       "mean     130.776793     65.387841\n",
       "std      487.376202    243.687506\n",
       "min        0.000000      0.000000\n",
       "25%        0.000000      0.000000\n",
       "50%        0.000000      0.000000\n",
       "75%        0.000000      0.000000\n",
       "max     2319.000000   1160.000000"
      ]
     },
     "execution_count": 11,
     "metadata": {},
     "output_type": "execute_result"
    }
   ],
   "source": [
    "# The data is skewed because most of it is zeros:\n",
    "df_measured_2min.describe()"
   ]
  },
  {
   "cell_type": "code",
   "execution_count": 12,
   "metadata": {
    "scrolled": false
   },
   "outputs": [
    {
     "data": {
      "text/html": [
       "<div>\n",
       "<style scoped>\n",
       "    .dataframe tbody tr th:only-of-type {\n",
       "        vertical-align: middle;\n",
       "    }\n",
       "\n",
       "    .dataframe tbody tr th {\n",
       "        vertical-align: top;\n",
       "    }\n",
       "\n",
       "    .dataframe thead th {\n",
       "        text-align: right;\n",
       "    }\n",
       "</style>\n",
       "<table border=\"1\" class=\"dataframe\">\n",
       "  <thead>\n",
       "    <tr style=\"text-align: right;\">\n",
       "      <th></th>\n",
       "      <th>time_utc</th>\n",
       "      <th>2min_count</th>\n",
       "      <th>time_local</th>\n",
       "      <th>rpm</th>\n",
       "    </tr>\n",
       "  </thead>\n",
       "  <tbody>\n",
       "    <tr>\n",
       "      <th>25700</th>\n",
       "      <td>2018-10-13 06:21:44</td>\n",
       "      <td>2164</td>\n",
       "      <td>2018-10-13 09:21:44+03:00</td>\n",
       "      <td>1082</td>\n",
       "    </tr>\n",
       "    <tr>\n",
       "      <th>25941</th>\n",
       "      <td>2018-10-13 14:23:44</td>\n",
       "      <td>455</td>\n",
       "      <td>2018-10-13 17:23:44+03:00</td>\n",
       "      <td>228</td>\n",
       "    </tr>\n",
       "    <tr>\n",
       "      <th>41105</th>\n",
       "      <td>2018-11-03 15:23:34</td>\n",
       "      <td>1705</td>\n",
       "      <td>2018-11-03 18:23:34+03:00</td>\n",
       "      <td>852</td>\n",
       "    </tr>\n",
       "    <tr>\n",
       "      <th>2918</th>\n",
       "      <td>2018-09-11 15:37:42</td>\n",
       "      <td>2114</td>\n",
       "      <td>2018-09-11 18:37:42+03:00</td>\n",
       "      <td>1057</td>\n",
       "    </tr>\n",
       "    <tr>\n",
       "      <th>33091</th>\n",
       "      <td>2018-10-23 12:29:26</td>\n",
       "      <td>2201</td>\n",
       "      <td>2018-10-23 15:29:26+03:00</td>\n",
       "      <td>1100</td>\n",
       "    </tr>\n",
       "    <tr>\n",
       "      <th>35113</th>\n",
       "      <td>2018-10-26 07:53:26</td>\n",
       "      <td>1469</td>\n",
       "      <td>2018-10-26 10:53:26+03:00</td>\n",
       "      <td>734</td>\n",
       "    </tr>\n",
       "    <tr>\n",
       "      <th>40259</th>\n",
       "      <td>2018-11-02 11:11:34</td>\n",
       "      <td>2196</td>\n",
       "      <td>2018-11-02 14:11:34+03:00</td>\n",
       "      <td>1098</td>\n",
       "    </tr>\n",
       "    <tr>\n",
       "      <th>23045</th>\n",
       "      <td>2018-10-09 13:51:44</td>\n",
       "      <td>722</td>\n",
       "      <td>2018-10-09 16:51:44+03:00</td>\n",
       "      <td>361</td>\n",
       "    </tr>\n",
       "    <tr>\n",
       "      <th>14455</th>\n",
       "      <td>2018-09-27 15:59:06</td>\n",
       "      <td>2020</td>\n",
       "      <td>2018-09-27 18:59:06+03:00</td>\n",
       "      <td>1010</td>\n",
       "    </tr>\n",
       "    <tr>\n",
       "      <th>8440</th>\n",
       "      <td>2018-09-19 07:35:17</td>\n",
       "      <td>354</td>\n",
       "      <td>2018-09-19 10:35:17+03:00</td>\n",
       "      <td>177</td>\n",
       "    </tr>\n",
       "  </tbody>\n",
       "</table>\n",
       "</div>"
      ],
      "text/plain": [
       "                 time_utc  2min_count                time_local   rpm\n",
       "25700 2018-10-13 06:21:44        2164 2018-10-13 09:21:44+03:00  1082\n",
       "25941 2018-10-13 14:23:44         455 2018-10-13 17:23:44+03:00   228\n",
       "41105 2018-11-03 15:23:34        1705 2018-11-03 18:23:34+03:00   852\n",
       "2918  2018-09-11 15:37:42        2114 2018-09-11 18:37:42+03:00  1057\n",
       "33091 2018-10-23 12:29:26        2201 2018-10-23 15:29:26+03:00  1100\n",
       "35113 2018-10-26 07:53:26        1469 2018-10-26 10:53:26+03:00   734\n",
       "40259 2018-11-02 11:11:34        2196 2018-11-02 14:11:34+03:00  1098\n",
       "23045 2018-10-09 13:51:44         722 2018-10-09 16:51:44+03:00   361\n",
       "14455 2018-09-27 15:59:06        2020 2018-09-27 18:59:06+03:00  1010\n",
       "8440  2018-09-19 07:35:17         354 2018-09-19 10:35:17+03:00   177"
      ]
     },
     "execution_count": 12,
     "metadata": {},
     "output_type": "execute_result"
    }
   ],
   "source": [
    "# Filter out all zeros and very low RPMs and look at it again:\n",
    "# df_measured_nozeros = df_measured_2min[df_measured_2min['rpm'] > -100]  # temp: effectively doesn't filter\n",
    "df_measured_nozeros = df_measured_2min[df_measured_2min['rpm'] > 100]\n",
    "df_measured_nozeros.sample(10)"
   ]
  },
  {
   "cell_type": "code",
   "execution_count": 13,
   "metadata": {},
   "outputs": [],
   "source": [
    "# pivot_ui(df_measured_nozeros, \n",
    "#          rows=['2min_count'],\n",
    "#          rendererName=\"Table\",\n",
    "#          aggregatorName=\"Count\")"
   ]
  },
  {
   "cell_type": "code",
   "execution_count": 14,
   "metadata": {},
   "outputs": [
    {
     "data": {
      "text/plain": [
       "<matplotlib.axes._subplots.AxesSubplot at 0x1a170bb908>"
      ]
     },
     "execution_count": 14,
     "metadata": {},
     "output_type": "execute_result"
    }
   ],
   "source": [
    "# Plot histogram of rpm including zeros\n",
    "df_measured_2min.plot.hist(y='rpm', figsize=(20, 4))"
   ]
  },
  {
   "cell_type": "code",
   "execution_count": 15,
   "metadata": {},
   "outputs": [
    {
     "data": {
      "text/plain": [
       "<matplotlib.axes._subplots.AxesSubplot at 0x1a172edac8>"
      ]
     },
     "execution_count": 15,
     "metadata": {},
     "output_type": "execute_result"
    },
    {
     "data": {
      "image/png": "[encoded data removed]",
      "text/plain": [
       "<matplotlib.figure.Figure at 0x1a174c1978>"
      ]
     },
     "metadata": {},
     "output_type": "display_data"
    }
   ],
   "source": [
    "# Plot histogram of rpm excluding zeros and low RPMs\n",
    "df_measured_nozeros.plot.hist(y='rpm', figsize=(20, 4))"
   ]
  },
  {
   "cell_type": "code",
   "execution_count": 16,
   "metadata": {},
   "outputs": [
    {
     "data": {
      "text/plain": [
       "1090"
      ]
     },
     "execution_count": 16,
     "metadata": {},
     "output_type": "execute_result"
    }
   ],
   "source": [
    "# Most common value (mode):\n",
    "df_measured_nozeros['rpm'].value_counts().idxmax()"
   ]
  },
  {
   "cell_type": "code",
   "execution_count": 17,
   "metadata": {},
   "outputs": [],
   "source": [
    "# Add day, hour_of_day, day_hour to 2 minute intervals to see the variation in RPMs with different time intervals\n",
    "# First set index of dataframe to time_local\n",
    "df_measured_nozeros = df_measured_nozeros.set_index('time_local')"
   ]
  },
  {
   "cell_type": "code",
   "execution_count": 18,
   "metadata": {},
   "outputs": [
    {
     "data": {
      "text/html": [
       "<div>\n",
       "<style scoped>\n",
       "    .dataframe tbody tr th:only-of-type {\n",
       "        vertical-align: middle;\n",
       "    }\n",
       "\n",
       "    .dataframe tbody tr th {\n",
       "        vertical-align: top;\n",
       "    }\n",
       "\n",
       "    .dataframe thead th {\n",
       "        text-align: right;\n",
       "    }\n",
       "</style>\n",
       "<table border=\"1\" class=\"dataframe\">\n",
       "  <thead>\n",
       "    <tr style=\"text-align: right;\">\n",
       "      <th></th>\n",
       "      <th>time_utc</th>\n",
       "      <th>2min_count</th>\n",
       "      <th>rpm</th>\n",
       "      <th>day</th>\n",
       "      <th>hour_of_day</th>\n",
       "      <th>day_hour</th>\n",
       "      <th>week</th>\n",
       "      <th>rpm_binned</th>\n",
       "    </tr>\n",
       "    <tr>\n",
       "      <th>time_local</th>\n",
       "      <th></th>\n",
       "      <th></th>\n",
       "      <th></th>\n",
       "      <th></th>\n",
       "      <th></th>\n",
       "      <th></th>\n",
       "      <th></th>\n",
       "      <th></th>\n",
       "    </tr>\n",
       "  </thead>\n",
       "  <tbody>\n",
       "    <tr>\n",
       "      <th>2018-11-06 18:11:34+03:00</th>\n",
       "      <td>2018-11-06 15:11:34</td>\n",
       "      <td>315</td>\n",
       "      <td>158</td>\n",
       "      <td>1tue</td>\n",
       "      <td>18</td>\n",
       "      <td>1tue_18</td>\n",
       "      <td>45</td>\n",
       "      <td>(100.0, 313.0]</td>\n",
       "    </tr>\n",
       "    <tr>\n",
       "      <th>2018-09-29 16:26:16+03:00</th>\n",
       "      <td>2018-09-29 13:26:16</td>\n",
       "      <td>946</td>\n",
       "      <td>473</td>\n",
       "      <td>5sat</td>\n",
       "      <td>16</td>\n",
       "      <td>5sat_16</td>\n",
       "      <td>39</td>\n",
       "      <td>(313.0, 525.0]</td>\n",
       "    </tr>\n",
       "    <tr>\n",
       "      <th>2018-10-21 17:39:26+03:00</th>\n",
       "      <td>2018-10-21 14:39:26</td>\n",
       "      <td>225</td>\n",
       "      <td>112</td>\n",
       "      <td>6sun</td>\n",
       "      <td>17</td>\n",
       "      <td>6sun_17</td>\n",
       "      <td>42</td>\n",
       "      <td>(100.0, 313.0]</td>\n",
       "    </tr>\n",
       "    <tr>\n",
       "      <th>2018-10-19 18:09:44+03:00</th>\n",
       "      <td>2018-10-19 15:09:44</td>\n",
       "      <td>2150</td>\n",
       "      <td>1075</td>\n",
       "      <td>4fri</td>\n",
       "      <td>18</td>\n",
       "      <td>4fri_18</td>\n",
       "      <td>42</td>\n",
       "      <td>(948.0, 1160.0]</td>\n",
       "    </tr>\n",
       "    <tr>\n",
       "      <th>2018-09-12 18:05:42+03:00</th>\n",
       "      <td>2018-09-12 15:05:42</td>\n",
       "      <td>2047</td>\n",
       "      <td>1024</td>\n",
       "      <td>2wed</td>\n",
       "      <td>18</td>\n",
       "      <td>2wed_18</td>\n",
       "      <td>37</td>\n",
       "      <td>(948.0, 1160.0]</td>\n",
       "    </tr>\n",
       "    <tr>\n",
       "      <th>2018-10-16 16:33:44+03:00</th>\n",
       "      <td>2018-10-16 13:33:44</td>\n",
       "      <td>2169</td>\n",
       "      <td>1084</td>\n",
       "      <td>1tue</td>\n",
       "      <td>16</td>\n",
       "      <td>1tue_16</td>\n",
       "      <td>42</td>\n",
       "      <td>(948.0, 1160.0]</td>\n",
       "    </tr>\n",
       "    <tr>\n",
       "      <th>2018-10-01 16:18:16+03:00</th>\n",
       "      <td>2018-10-01 13:18:16</td>\n",
       "      <td>2031</td>\n",
       "      <td>1016</td>\n",
       "      <td>0mon</td>\n",
       "      <td>16</td>\n",
       "      <td>0mon_16</td>\n",
       "      <td>40</td>\n",
       "      <td>(948.0, 1160.0]</td>\n",
       "    </tr>\n",
       "    <tr>\n",
       "      <th>2018-09-24 18:57:06+03:00</th>\n",
       "      <td>2018-09-24 15:57:06</td>\n",
       "      <td>579</td>\n",
       "      <td>290</td>\n",
       "      <td>0mon</td>\n",
       "      <td>18</td>\n",
       "      <td>0mon_18</td>\n",
       "      <td>39</td>\n",
       "      <td>(100.0, 313.0]</td>\n",
       "    </tr>\n",
       "    <tr>\n",
       "      <th>2018-10-02 18:30:16+03:00</th>\n",
       "      <td>2018-10-02 15:30:16</td>\n",
       "      <td>348</td>\n",
       "      <td>174</td>\n",
       "      <td>1tue</td>\n",
       "      <td>18</td>\n",
       "      <td>1tue_18</td>\n",
       "      <td>40</td>\n",
       "      <td>(100.0, 313.0]</td>\n",
       "    </tr>\n",
       "    <tr>\n",
       "      <th>2018-10-02 16:30:16+03:00</th>\n",
       "      <td>2018-10-02 13:30:16</td>\n",
       "      <td>1488</td>\n",
       "      <td>744</td>\n",
       "      <td>1tue</td>\n",
       "      <td>16</td>\n",
       "      <td>1tue_16</td>\n",
       "      <td>40</td>\n",
       "      <td>(736.0, 948.0]</td>\n",
       "    </tr>\n",
       "  </tbody>\n",
       "</table>\n",
       "</div>"
      ],
      "text/plain": [
       "                                     time_utc  2min_count   rpm   day  \\\n",
       "time_local                                                              \n",
       "2018-11-06 18:11:34+03:00 2018-11-06 15:11:34         315   158  1tue   \n",
       "2018-09-29 16:26:16+03:00 2018-09-29 13:26:16         946   473  5sat   \n",
       "2018-10-21 17:39:26+03:00 2018-10-21 14:39:26         225   112  6sun   \n",
       "2018-10-19 18:09:44+03:00 2018-10-19 15:09:44        2150  1075  4fri   \n",
       "2018-09-12 18:05:42+03:00 2018-09-12 15:05:42        2047  1024  2wed   \n",
       "2018-10-16 16:33:44+03:00 2018-10-16 13:33:44        2169  1084  1tue   \n",
       "2018-10-01 16:18:16+03:00 2018-10-01 13:18:16        2031  1016  0mon   \n",
       "2018-09-24 18:57:06+03:00 2018-09-24 15:57:06         579   290  0mon   \n",
       "2018-10-02 18:30:16+03:00 2018-10-02 15:30:16         348   174  1tue   \n",
       "2018-10-02 16:30:16+03:00 2018-10-02 13:30:16        1488   744  1tue   \n",
       "\n",
       "                           hour_of_day day_hour  week       rpm_binned  \n",
       "time_local                                                              \n",
       "2018-11-06 18:11:34+03:00           18  1tue_18    45   (100.0, 313.0]  \n",
       "2018-09-29 16:26:16+03:00           16  5sat_16    39   (313.0, 525.0]  \n",
       "2018-10-21 17:39:26+03:00           17  6sun_17    42   (100.0, 313.0]  \n",
       "2018-10-19 18:09:44+03:00           18  4fri_18    42  (948.0, 1160.0]  \n",
       "2018-09-12 18:05:42+03:00           18  2wed_18    37  (948.0, 1160.0]  \n",
       "2018-10-16 16:33:44+03:00           16  1tue_16    42  (948.0, 1160.0]  \n",
       "2018-10-01 16:18:16+03:00           16  0mon_16    40  (948.0, 1160.0]  \n",
       "2018-09-24 18:57:06+03:00           18  0mon_18    39   (100.0, 313.0]  \n",
       "2018-10-02 18:30:16+03:00           18  1tue_18    40   (100.0, 313.0]  \n",
       "2018-10-02 16:30:16+03:00           16  1tue_16    40   (736.0, 948.0]  "
      ]
     },
     "execution_count": 18,
     "metadata": {},
     "output_type": "execute_result"
    }
   ],
   "source": [
    "df_measured_nozeros['day'] = df_measured_nozeros.index.dayofweek.map(str) + df_measured_nozeros.index.day_name()\n",
    "df_measured_nozeros['day'] = df_measured_nozeros[\"day\"].apply(shorten_day_name)\n",
    "df_measured_nozeros['hour_of_day'] = df_measured_nozeros.index.hour\n",
    "df_measured_nozeros['day_hour'] = df_measured_nozeros.apply(lambda row: composite_val(row['day'], row['hour_of_day']), axis=1)\n",
    "df_measured_nozeros['week'] = df_measured_nozeros.index.week\n",
    "df_measured_nozeros['rpm_binned'] = pd.cut(df_measured_nozeros['rpm'], 5, precision=0, )\n",
    "df_measured_nozeros.sample(10)"
   ]
  },
  {
   "cell_type": "code",
   "execution_count": 19,
   "metadata": {
    "scrolled": false
   },
   "outputs": [
    {
     "data": {
      "text/html": [
       "\n",
       "        <iframe\n",
       "            width=\"100%\"\n",
       "            height=\"500\"\n",
       "            src=\"pivottablejs.html\"\n",
       "            frameborder=\"0\"\n",
       "            allowfullscreen\n",
       "        ></iframe>\n",
       "        "
      ],
      "text/plain": [
       "<IPython.lib.display.IFrame at 0x110d95668>"
      ]
     },
     "execution_count": 19,
     "metadata": {},
     "output_type": "execute_result"
    }
   ],
   "source": [
    "pivot_ui(df_measured_nozeros, \n",
    "         rows=['rpm_binned'],\n",
    "         cols=['hour_of_day'],\n",
    "         rendererName=\"Bar Chart\",\n",
    "         aggregatorName=\"Count\")"
   ]
  },
  {
   "cell_type": "code",
   "execution_count": 20,
   "metadata": {},
   "outputs": [
    {
     "data": {
      "text/html": [
       "\n",
       "        <iframe\n",
       "            width=\"100%\"\n",
       "            height=\"500\"\n",
       "            src=\"pivottablejs.html\"\n",
       "            frameborder=\"0\"\n",
       "            allowfullscreen\n",
       "        ></iframe>\n",
       "        "
      ],
      "text/plain": [
       "<IPython.lib.display.IFrame at 0x1a17542748>"
      ]
     },
     "execution_count": 20,
     "metadata": {},
     "output_type": "execute_result"
    }
   ],
   "source": [
    "pivot_ui(df_measured_nozeros, \n",
    "         rows=['rpm_binned'],\n",
    "         cols=['day'],\n",
    "         rendererName=\"Bar Chart\",\n",
    "         aggregatorName=\"Count\")"
   ]
  },
  {
   "cell_type": "markdown",
   "metadata": {},
   "source": [
    "#### Thoughts\n",
    "* We're seeing the RPM average and mode as ~1000. We think the max RPM is 2200. We are measuring rotations every 2 minutes but 2 minutes is fairly long. Is it possible these mills cycle on and off (or low rpms) within those 2 minutes? For example, they could run at max for 30 seconds, spin down to low RPMs for 30, then spin back up to max continuously? \n",
    "    1. The data could support that type of cycling if that behavior was programmed into the mill\n",
    "    2. The data is too consistent to support people manually cycling these mills. I would expect more variance in the distributions of RPMs."
   ]
  },
  {
   "cell_type": "markdown",
   "metadata": {},
   "source": [
    "## Approach to convert RPM to unitless usage counts\n",
    "RPMs relate to 3 quantities that we care about:\n",
    "* kW\n",
    "* kWh\n",
    "* Grain throughput\n",
    "\n",
    "These quantities are directly related to costs and revenue for the appliance owner and grid operator. We have measured revolution count in 2-minute intervals. The average RPM is half the number of mill revolutions.\n",
    "\n",
    "However, if we want to work with hourly intervals, then we can't add up RPMs to get the total RPMs within an hour. We have a few options:\n",
    "1. Average the RPMs across the hour. If the mill runs for 30 minutes at 1200 RPMs, then the average would be 600 RPMs. Grain throughput and kW likely have a non-linear relationship to RPMs, so this would really distort the results.\n",
    "2. Assign a unitless usage factor to each minute interval. If the mill is running at full production (throughput and kW), then we can assign it a value of 1 (2 for a 2-minute interval). We can scale the factor down as the RPMs go down. \n",
    "\n",
    "The second approach is what I will use.\n",
    "\n",
    "### Throughput vs. kW\n",
    "To calculate kW (and therefore kWh) and throughput, we need to know how RPM relates to these two factors. There is no reason to assume the kW and grain throughput vs RPM scale the same. So let's create two functions that calculate kW and grain throughput independently.\n",
    "\n",
    "For now, these factors will be the same. But the functions can be easily modified as we get more information without refactoring code downstream."
   ]
  },
  {
   "cell_type": "markdown",
   "metadata": {},
   "source": [
    "## RPM to unitless utilization factors\n",
    "This mill is likely rated at 16.2kW @ 2200 RPM. Let's assume some function that relates it's utilization given an RPM."
   ]
  },
  {
   "cell_type": "code",
   "execution_count": 21,
   "metadata": {},
   "outputs": [
    {
     "data": {
      "text/plain": [
       "0.03366"
      ]
     },
     "execution_count": 21,
     "metadata": {},
     "output_type": "execute_result"
    }
   ],
   "source": [
    "# What we have measured from the mill sensors is revolutions per 2 minutes: `rp2m`. (At this point we've already converted to rpm by dividing it by 2)\n",
    "# What we want is the percent that this mill is fully utilized over the course of an hour: `kw_factor`.\n",
    "# This will allow us to multiply this factor by the appliance power (nominal power in kW) to get the kW for that hour.\n",
    "# This should stay true as long as kW scales linearly with RPM. We can refine later as we get more data.\n",
    "\n",
    "# We may want to filter very low RPMs out. A slow motor still uses power and mills grain, but I don't know the cutoff\n",
    "# Assuming we have already \n",
    "def rpm_to_kw_utilization(rpm, full_capacity=1110):\n",
    "    \"\"\"\n",
    "    Convert RPM to a kW utilization factor. \n",
    "    This assumes we have already converted the 2-minute revolution count (rp2m) count to 1 minute (rpm) \n",
    "    \"\"\"\n",
    "    # Fraction of full capacity over 2 minutes \n",
    "    two_min_rpm_full_capacity_percent = rpm / full_capacity\n",
    "    \n",
    "    # There are 30 2-minute intervals in an hour\n",
    "    two_min_intervals_per_hour_count = 30\n",
    "    \n",
    "    # Calculate the fraction of full utilization for the *entire hour* this 2 minute interval\n",
    "    # contributes. Then when we resample fromm 2min to 1 hour intervals, these will sum correctly.\n",
    "    # This is a little unintuitive - we could divide by 30 after resampling, but then this \n",
    "    # calculation is spread out across this notebook and may be more confusing\n",
    "    return round(two_min_rpm_full_capacity_percent / two_min_intervals_per_hour_count, 5)\n",
    "    \n",
    "rpm_to_kw_utilization(1121)"
   ]
  },
  {
   "cell_type": "code",
   "execution_count": 22,
   "metadata": {},
   "outputs": [
    {
     "data": {
      "text/plain": [
       "0.03366"
      ]
     },
     "execution_count": 22,
     "metadata": {},
     "output_type": "execute_result"
    }
   ],
   "source": [
    "# Until we have better data, assume the utilization factors are the same between kW and grain\n",
    "# See explanation above\n",
    "\n",
    "def rpm_to_grain_utilization(rpm, full_capacity=1110):\n",
    "    \"\"\"\n",
    "    Convert RPM to a grain milled utilization factor\n",
    "    \"\"\"\n",
    "    # Fraction of full capacity over 2 minutes \n",
    "    two_min_rpm_full_capacity_percent = rpm / full_capacity\n",
    "    \n",
    "    # There are 30 2-minute intervals in an hour\n",
    "    two_min_intervals_per_hour_count = 30\n",
    "    \n",
    "    # Calculate the fraction of full utilization for the *entire hour* this 2 minute interval\n",
    "    # contributes. Then when we resample fromm 2min to 1 hour intervals, these will sum correctly.\n",
    "    # This is a little unintuitive - we could divide by 30 after resampling, but then this \n",
    "    # calculation is spread out across this notebook and may be more confusing\n",
    "    return round(two_min_rpm_full_capacity_percent / two_min_intervals_per_hour_count, 5)\n",
    "\n",
    "rpm_to_grain_utilization(1121)"
   ]
  },
  {
   "cell_type": "code",
   "execution_count": 23,
   "metadata": {
    "scrolled": false
   },
   "outputs": [
    {
     "data": {
      "text/html": [
       "<div>\n",
       "<style scoped>\n",
       "    .dataframe tbody tr th:only-of-type {\n",
       "        vertical-align: middle;\n",
       "    }\n",
       "\n",
       "    .dataframe tbody tr th {\n",
       "        vertical-align: top;\n",
       "    }\n",
       "\n",
       "    .dataframe thead th {\n",
       "        text-align: right;\n",
       "    }\n",
       "</style>\n",
       "<table border=\"1\" class=\"dataframe\">\n",
       "  <thead>\n",
       "    <tr style=\"text-align: right;\">\n",
       "      <th></th>\n",
       "      <th>time_utc</th>\n",
       "      <th>2min_count</th>\n",
       "      <th>time_local</th>\n",
       "      <th>rpm</th>\n",
       "      <th>kw_factor</th>\n",
       "      <th>production_factor</th>\n",
       "    </tr>\n",
       "  </thead>\n",
       "  <tbody>\n",
       "    <tr>\n",
       "      <th>30220</th>\n",
       "      <td>2018-10-19 13:01:44</td>\n",
       "      <td>2208</td>\n",
       "      <td>2018-10-19 16:01:44+03:00</td>\n",
       "      <td>1104</td>\n",
       "      <td>0.03315</td>\n",
       "      <td>0.03315</td>\n",
       "    </tr>\n",
       "    <tr>\n",
       "      <th>30221</th>\n",
       "      <td>2018-10-19 13:03:44</td>\n",
       "      <td>2201</td>\n",
       "      <td>2018-10-19 16:03:44+03:00</td>\n",
       "      <td>1100</td>\n",
       "      <td>0.03303</td>\n",
       "      <td>0.03303</td>\n",
       "    </tr>\n",
       "    <tr>\n",
       "      <th>30222</th>\n",
       "      <td>2018-10-19 13:05:44</td>\n",
       "      <td>2219</td>\n",
       "      <td>2018-10-19 16:05:44+03:00</td>\n",
       "      <td>1110</td>\n",
       "      <td>0.03333</td>\n",
       "      <td>0.03333</td>\n",
       "    </tr>\n",
       "    <tr>\n",
       "      <th>30223</th>\n",
       "      <td>2018-10-19 13:07:44</td>\n",
       "      <td>2225</td>\n",
       "      <td>2018-10-19 16:07:44+03:00</td>\n",
       "      <td>1112</td>\n",
       "      <td>0.03339</td>\n",
       "      <td>0.03339</td>\n",
       "    </tr>\n",
       "    <tr>\n",
       "      <th>30224</th>\n",
       "      <td>2018-10-19 13:09:44</td>\n",
       "      <td>2221</td>\n",
       "      <td>2018-10-19 16:09:44+03:00</td>\n",
       "      <td>1110</td>\n",
       "      <td>0.03333</td>\n",
       "      <td>0.03333</td>\n",
       "    </tr>\n",
       "    <tr>\n",
       "      <th>30225</th>\n",
       "      <td>2018-10-19 13:11:44</td>\n",
       "      <td>2208</td>\n",
       "      <td>2018-10-19 16:11:44+03:00</td>\n",
       "      <td>1104</td>\n",
       "      <td>0.03315</td>\n",
       "      <td>0.03315</td>\n",
       "    </tr>\n",
       "    <tr>\n",
       "      <th>30226</th>\n",
       "      <td>2018-10-19 13:13:44</td>\n",
       "      <td>2205</td>\n",
       "      <td>2018-10-19 16:13:44+03:00</td>\n",
       "      <td>1102</td>\n",
       "      <td>0.03309</td>\n",
       "      <td>0.03309</td>\n",
       "    </tr>\n",
       "    <tr>\n",
       "      <th>30227</th>\n",
       "      <td>2018-10-19 13:15:44</td>\n",
       "      <td>2204</td>\n",
       "      <td>2018-10-19 16:15:44+03:00</td>\n",
       "      <td>1102</td>\n",
       "      <td>0.03309</td>\n",
       "      <td>0.03309</td>\n",
       "    </tr>\n",
       "    <tr>\n",
       "      <th>30228</th>\n",
       "      <td>2018-10-19 13:17:44</td>\n",
       "      <td>2192</td>\n",
       "      <td>2018-10-19 16:17:44+03:00</td>\n",
       "      <td>1096</td>\n",
       "      <td>0.03291</td>\n",
       "      <td>0.03291</td>\n",
       "    </tr>\n",
       "    <tr>\n",
       "      <th>30229</th>\n",
       "      <td>2018-10-19 13:19:44</td>\n",
       "      <td>2168</td>\n",
       "      <td>2018-10-19 16:19:44+03:00</td>\n",
       "      <td>1084</td>\n",
       "      <td>0.03255</td>\n",
       "      <td>0.03255</td>\n",
       "    </tr>\n",
       "    <tr>\n",
       "      <th>30230</th>\n",
       "      <td>2018-10-19 13:21:44</td>\n",
       "      <td>2174</td>\n",
       "      <td>2018-10-19 16:21:44+03:00</td>\n",
       "      <td>1087</td>\n",
       "      <td>0.03264</td>\n",
       "      <td>0.03264</td>\n",
       "    </tr>\n",
       "    <tr>\n",
       "      <th>30231</th>\n",
       "      <td>2018-10-19 13:23:44</td>\n",
       "      <td>2166</td>\n",
       "      <td>2018-10-19 16:23:44+03:00</td>\n",
       "      <td>1083</td>\n",
       "      <td>0.03252</td>\n",
       "      <td>0.03252</td>\n",
       "    </tr>\n",
       "    <tr>\n",
       "      <th>30232</th>\n",
       "      <td>2018-10-19 13:25:44</td>\n",
       "      <td>2159</td>\n",
       "      <td>2018-10-19 16:25:44+03:00</td>\n",
       "      <td>1080</td>\n",
       "      <td>0.03243</td>\n",
       "      <td>0.03243</td>\n",
       "    </tr>\n",
       "    <tr>\n",
       "      <th>30233</th>\n",
       "      <td>2018-10-19 13:27:44</td>\n",
       "      <td>2174</td>\n",
       "      <td>2018-10-19 16:27:44+03:00</td>\n",
       "      <td>1087</td>\n",
       "      <td>0.03264</td>\n",
       "      <td>0.03264</td>\n",
       "    </tr>\n",
       "    <tr>\n",
       "      <th>30234</th>\n",
       "      <td>2018-10-19 13:29:44</td>\n",
       "      <td>2154</td>\n",
       "      <td>2018-10-19 16:29:44+03:00</td>\n",
       "      <td>1077</td>\n",
       "      <td>0.03234</td>\n",
       "      <td>0.03234</td>\n",
       "    </tr>\n",
       "    <tr>\n",
       "      <th>30235</th>\n",
       "      <td>2018-10-19 13:31:44</td>\n",
       "      <td>2180</td>\n",
       "      <td>2018-10-19 16:31:44+03:00</td>\n",
       "      <td>1090</td>\n",
       "      <td>0.03273</td>\n",
       "      <td>0.03273</td>\n",
       "    </tr>\n",
       "    <tr>\n",
       "      <th>30236</th>\n",
       "      <td>2018-10-19 13:33:44</td>\n",
       "      <td>2182</td>\n",
       "      <td>2018-10-19 16:33:44+03:00</td>\n",
       "      <td>1091</td>\n",
       "      <td>0.03276</td>\n",
       "      <td>0.03276</td>\n",
       "    </tr>\n",
       "    <tr>\n",
       "      <th>30237</th>\n",
       "      <td>2018-10-19 13:35:44</td>\n",
       "      <td>2133</td>\n",
       "      <td>2018-10-19 16:35:44+03:00</td>\n",
       "      <td>1066</td>\n",
       "      <td>0.03201</td>\n",
       "      <td>0.03201</td>\n",
       "    </tr>\n",
       "    <tr>\n",
       "      <th>30238</th>\n",
       "      <td>2018-10-19 13:37:44</td>\n",
       "      <td>2177</td>\n",
       "      <td>2018-10-19 16:37:44+03:00</td>\n",
       "      <td>1088</td>\n",
       "      <td>0.03267</td>\n",
       "      <td>0.03267</td>\n",
       "    </tr>\n",
       "    <tr>\n",
       "      <th>30239</th>\n",
       "      <td>2018-10-19 13:39:44</td>\n",
       "      <td>2176</td>\n",
       "      <td>2018-10-19 16:39:44+03:00</td>\n",
       "      <td>1088</td>\n",
       "      <td>0.03267</td>\n",
       "      <td>0.03267</td>\n",
       "    </tr>\n",
       "    <tr>\n",
       "      <th>30240</th>\n",
       "      <td>2018-10-19 13:41:44</td>\n",
       "      <td>2200</td>\n",
       "      <td>2018-10-19 16:41:44+03:00</td>\n",
       "      <td>1100</td>\n",
       "      <td>0.03303</td>\n",
       "      <td>0.03303</td>\n",
       "    </tr>\n",
       "    <tr>\n",
       "      <th>30241</th>\n",
       "      <td>2018-10-19 13:43:44</td>\n",
       "      <td>2150</td>\n",
       "      <td>2018-10-19 16:43:44+03:00</td>\n",
       "      <td>1075</td>\n",
       "      <td>0.03228</td>\n",
       "      <td>0.03228</td>\n",
       "    </tr>\n",
       "    <tr>\n",
       "      <th>30242</th>\n",
       "      <td>2018-10-19 13:45:44</td>\n",
       "      <td>2181</td>\n",
       "      <td>2018-10-19 16:45:44+03:00</td>\n",
       "      <td>1090</td>\n",
       "      <td>0.03273</td>\n",
       "      <td>0.03273</td>\n",
       "    </tr>\n",
       "    <tr>\n",
       "      <th>30243</th>\n",
       "      <td>2018-10-19 13:47:44</td>\n",
       "      <td>2182</td>\n",
       "      <td>2018-10-19 16:47:44+03:00</td>\n",
       "      <td>1091</td>\n",
       "      <td>0.03276</td>\n",
       "      <td>0.03276</td>\n",
       "    </tr>\n",
       "    <tr>\n",
       "      <th>30244</th>\n",
       "      <td>2018-10-19 13:49:44</td>\n",
       "      <td>2178</td>\n",
       "      <td>2018-10-19 16:49:44+03:00</td>\n",
       "      <td>1089</td>\n",
       "      <td>0.03270</td>\n",
       "      <td>0.03270</td>\n",
       "    </tr>\n",
       "    <tr>\n",
       "      <th>30245</th>\n",
       "      <td>2018-10-19 13:51:44</td>\n",
       "      <td>2140</td>\n",
       "      <td>2018-10-19 16:51:44+03:00</td>\n",
       "      <td>1070</td>\n",
       "      <td>0.03213</td>\n",
       "      <td>0.03213</td>\n",
       "    </tr>\n",
       "    <tr>\n",
       "      <th>30246</th>\n",
       "      <td>2018-10-19 13:53:44</td>\n",
       "      <td>1261</td>\n",
       "      <td>2018-10-19 16:53:44+03:00</td>\n",
       "      <td>630</td>\n",
       "      <td>0.01892</td>\n",
       "      <td>0.01892</td>\n",
       "    </tr>\n",
       "    <tr>\n",
       "      <th>30247</th>\n",
       "      <td>2018-10-19 13:55:44</td>\n",
       "      <td>0</td>\n",
       "      <td>2018-10-19 16:55:44+03:00</td>\n",
       "      <td>0</td>\n",
       "      <td>0.00000</td>\n",
       "      <td>0.00000</td>\n",
       "    </tr>\n",
       "    <tr>\n",
       "      <th>30248</th>\n",
       "      <td>2018-10-19 13:57:44</td>\n",
       "      <td>0</td>\n",
       "      <td>2018-10-19 16:57:44+03:00</td>\n",
       "      <td>0</td>\n",
       "      <td>0.00000</td>\n",
       "      <td>0.00000</td>\n",
       "    </tr>\n",
       "    <tr>\n",
       "      <th>30249</th>\n",
       "      <td>2018-10-19 13:59:44</td>\n",
       "      <td>0</td>\n",
       "      <td>2018-10-19 16:59:44+03:00</td>\n",
       "      <td>0</td>\n",
       "      <td>0.00000</td>\n",
       "      <td>0.00000</td>\n",
       "    </tr>\n",
       "  </tbody>\n",
       "</table>\n",
       "</div>"
      ],
      "text/plain": [
       "                 time_utc  2min_count                time_local   rpm  \\\n",
       "30220 2018-10-19 13:01:44        2208 2018-10-19 16:01:44+03:00  1104   \n",
       "30221 2018-10-19 13:03:44        2201 2018-10-19 16:03:44+03:00  1100   \n",
       "30222 2018-10-19 13:05:44        2219 2018-10-19 16:05:44+03:00  1110   \n",
       "30223 2018-10-19 13:07:44        2225 2018-10-19 16:07:44+03:00  1112   \n",
       "30224 2018-10-19 13:09:44        2221 2018-10-19 16:09:44+03:00  1110   \n",
       "30225 2018-10-19 13:11:44        2208 2018-10-19 16:11:44+03:00  1104   \n",
       "30226 2018-10-19 13:13:44        2205 2018-10-19 16:13:44+03:00  1102   \n",
       "30227 2018-10-19 13:15:44        2204 2018-10-19 16:15:44+03:00  1102   \n",
       "30228 2018-10-19 13:17:44        2192 2018-10-19 16:17:44+03:00  1096   \n",
       "30229 2018-10-19 13:19:44        2168 2018-10-19 16:19:44+03:00  1084   \n",
       "30230 2018-10-19 13:21:44        2174 2018-10-19 16:21:44+03:00  1087   \n",
       "30231 2018-10-19 13:23:44        2166 2018-10-19 16:23:44+03:00  1083   \n",
       "30232 2018-10-19 13:25:44        2159 2018-10-19 16:25:44+03:00  1080   \n",
       "30233 2018-10-19 13:27:44        2174 2018-10-19 16:27:44+03:00  1087   \n",
       "30234 2018-10-19 13:29:44        2154 2018-10-19 16:29:44+03:00  1077   \n",
       "30235 2018-10-19 13:31:44        2180 2018-10-19 16:31:44+03:00  1090   \n",
       "30236 2018-10-19 13:33:44        2182 2018-10-19 16:33:44+03:00  1091   \n",
       "30237 2018-10-19 13:35:44        2133 2018-10-19 16:35:44+03:00  1066   \n",
       "30238 2018-10-19 13:37:44        2177 2018-10-19 16:37:44+03:00  1088   \n",
       "30239 2018-10-19 13:39:44        2176 2018-10-19 16:39:44+03:00  1088   \n",
       "30240 2018-10-19 13:41:44        2200 2018-10-19 16:41:44+03:00  1100   \n",
       "30241 2018-10-19 13:43:44        2150 2018-10-19 16:43:44+03:00  1075   \n",
       "30242 2018-10-19 13:45:44        2181 2018-10-19 16:45:44+03:00  1090   \n",
       "30243 2018-10-19 13:47:44        2182 2018-10-19 16:47:44+03:00  1091   \n",
       "30244 2018-10-19 13:49:44        2178 2018-10-19 16:49:44+03:00  1089   \n",
       "30245 2018-10-19 13:51:44        2140 2018-10-19 16:51:44+03:00  1070   \n",
       "30246 2018-10-19 13:53:44        1261 2018-10-19 16:53:44+03:00   630   \n",
       "30247 2018-10-19 13:55:44           0 2018-10-19 16:55:44+03:00     0   \n",
       "30248 2018-10-19 13:57:44           0 2018-10-19 16:57:44+03:00     0   \n",
       "30249 2018-10-19 13:59:44           0 2018-10-19 16:59:44+03:00     0   \n",
       "\n",
       "       kw_factor  production_factor  \n",
       "30220    0.03315            0.03315  \n",
       "30221    0.03303            0.03303  \n",
       "30222    0.03333            0.03333  \n",
       "30223    0.03339            0.03339  \n",
       "30224    0.03333            0.03333  \n",
       "30225    0.03315            0.03315  \n",
       "30226    0.03309            0.03309  \n",
       "30227    0.03309            0.03309  \n",
       "30228    0.03291            0.03291  \n",
       "30229    0.03255            0.03255  \n",
       "30230    0.03264            0.03264  \n",
       "30231    0.03252            0.03252  \n",
       "30232    0.03243            0.03243  \n",
       "30233    0.03264            0.03264  \n",
       "30234    0.03234            0.03234  \n",
       "30235    0.03273            0.03273  \n",
       "30236    0.03276            0.03276  \n",
       "30237    0.03201            0.03201  \n",
       "30238    0.03267            0.03267  \n",
       "30239    0.03267            0.03267  \n",
       "30240    0.03303            0.03303  \n",
       "30241    0.03228            0.03228  \n",
       "30242    0.03273            0.03273  \n",
       "30243    0.03276            0.03276  \n",
       "30244    0.03270            0.03270  \n",
       "30245    0.03213            0.03213  \n",
       "30246    0.01892            0.01892  \n",
       "30247    0.00000            0.00000  \n",
       "30248    0.00000            0.00000  \n",
       "30249    0.00000            0.00000  "
      ]
     },
     "execution_count": 23,
     "metadata": {},
     "output_type": "execute_result"
    }
   ],
   "source": [
    "df_measured_2min['kw_factor'] = df_measured_2min['rpm'].apply(rpm_to_kw_utilization) \n",
    "df_measured_2min['production_factor'] = df_measured_2min['rpm'].apply(rpm_to_grain_utilization) \n",
    "\n",
    "# Show a single hour: \n",
    "df_measured_2min[30220:30250]"
   ]
  },
  {
   "cell_type": "code",
   "execution_count": 24,
   "metadata": {},
   "outputs": [],
   "source": [
    "# df_measured_2min[30220:30250].to_csv('test_summation', index_label='index')"
   ]
  },
  {
   "cell_type": "code",
   "execution_count": 25,
   "metadata": {},
   "outputs": [
    {
     "data": {
      "text/plain": [
       "2min_count           58018.00000\n",
       "rpm                  29006.00000\n",
       "kw_factor                0.87098\n",
       "production_factor        0.87098\n",
       "dtype: float64"
      ]
     },
     "execution_count": 25,
     "metadata": {},
     "output_type": "execute_result"
    }
   ],
   "source": [
    "# Sum the kw_factor for this hour: 2018-10-19 16:00 (axis=0 is column)\n",
    "# You can see the utilization kw_factor is 0.87098. This is the same as that same hour after resampling to hourly\n",
    "df_measured_2min[30220:30250].sum(axis=0)"
   ]
  },
  {
   "cell_type": "markdown",
   "metadata": {},
   "source": [
    "## Resample 2 minute to hourly intervals"
   ]
  },
  {
   "cell_type": "code",
   "execution_count": 26,
   "metadata": {},
   "outputs": [],
   "source": [
    "# First we need to set the dataframe index to be the time_local datetime\n",
    "df_measured_2min_index = df_measured_2min.set_index('time_local')"
   ]
  },
  {
   "cell_type": "code",
   "execution_count": 27,
   "metadata": {},
   "outputs": [
    {
     "data": {
      "text/plain": [
       "(45926, 5)"
      ]
     },
     "execution_count": 27,
     "metadata": {},
     "output_type": "execute_result"
    }
   ],
   "source": [
    "df_measured_2min_index.shape"
   ]
  },
  {
   "cell_type": "code",
   "execution_count": 28,
   "metadata": {
    "scrolled": true
   },
   "outputs": [
    {
     "data": {
      "text/plain": [
       "(1670, 3)"
      ]
     },
     "execution_count": 28,
     "metadata": {},
     "output_type": "execute_result"
    }
   ],
   "source": [
    "# Resample while summing every 2-min interval within an hour ('H')\n",
    "# Drop the now-unused 2min_count\n",
    "# UTC time will automatically be dropped since you can't sum it\n",
    "df_measured = df_measured_2min_index.resample('H').sum().drop(columns=['2min_count'])\n",
    "df_measured.shape  # (rows, columns) where column count doesn't include the index"
   ]
  },
  {
   "cell_type": "code",
   "execution_count": 29,
   "metadata": {},
   "outputs": [
    {
     "data": {
      "text/html": [
       "<div>\n",
       "<style scoped>\n",
       "    .dataframe tbody tr th:only-of-type {\n",
       "        vertical-align: middle;\n",
       "    }\n",
       "\n",
       "    .dataframe tbody tr th {\n",
       "        vertical-align: top;\n",
       "    }\n",
       "\n",
       "    .dataframe thead th {\n",
       "        text-align: right;\n",
       "    }\n",
       "</style>\n",
       "<table border=\"1\" class=\"dataframe\">\n",
       "  <thead>\n",
       "    <tr style=\"text-align: right;\">\n",
       "      <th></th>\n",
       "      <th>rpm</th>\n",
       "      <th>kw_factor</th>\n",
       "      <th>production_factor</th>\n",
       "    </tr>\n",
       "    <tr>\n",
       "      <th>time_local</th>\n",
       "      <th></th>\n",
       "      <th></th>\n",
       "      <th></th>\n",
       "    </tr>\n",
       "  </thead>\n",
       "  <tbody>\n",
       "    <tr>\n",
       "      <th>2018-10-19 16:00:00+03:00</th>\n",
       "      <td>29006</td>\n",
       "      <td>0.87098</td>\n",
       "      <td>0.87098</td>\n",
       "    </tr>\n",
       "  </tbody>\n",
       "</table>\n",
       "</div>"
      ],
      "text/plain": [
       "                             rpm  kw_factor  production_factor\n",
       "time_local                                                    \n",
       "2018-10-19 16:00:00+03:00  29006    0.87098            0.87098"
      ]
     },
     "execution_count": 29,
     "metadata": {},
     "output_type": "execute_result"
    }
   ],
   "source": [
    "# This should match the df_measured_2min[30220:30250].sum(axis=0) value for kw_factor above\n",
    "df_measured['2018-10-19 16:00':'2018-10-19 16:00']"
   ]
  },
  {
   "cell_type": "markdown",
   "metadata": {},
   "source": [
    "## Add hour, day of week, day_hour columns \n",
    "These columns will be used later for generating yearly usage profile and aggregate stats."
   ]
  },
  {
   "cell_type": "code",
   "execution_count": 30,
   "metadata": {},
   "outputs": [
    {
     "data": {
      "text/html": [
       "<div>\n",
       "<style scoped>\n",
       "    .dataframe tbody tr th:only-of-type {\n",
       "        vertical-align: middle;\n",
       "    }\n",
       "\n",
       "    .dataframe tbody tr th {\n",
       "        vertical-align: top;\n",
       "    }\n",
       "\n",
       "    .dataframe thead th {\n",
       "        text-align: right;\n",
       "    }\n",
       "</style>\n",
       "<table border=\"1\" class=\"dataframe\">\n",
       "  <thead>\n",
       "    <tr style=\"text-align: right;\">\n",
       "      <th></th>\n",
       "      <th>rpm</th>\n",
       "      <th>kw_factor</th>\n",
       "      <th>production_factor</th>\n",
       "      <th>day</th>\n",
       "      <th>hour_of_day</th>\n",
       "      <th>day_hour</th>\n",
       "    </tr>\n",
       "    <tr>\n",
       "      <th>time_local</th>\n",
       "      <th></th>\n",
       "      <th></th>\n",
       "      <th></th>\n",
       "      <th></th>\n",
       "      <th></th>\n",
       "      <th></th>\n",
       "    </tr>\n",
       "  </thead>\n",
       "  <tbody>\n",
       "    <tr>\n",
       "      <th>2018-09-22 03:00:00+03:00</th>\n",
       "      <td>0</td>\n",
       "      <td>0.00000</td>\n",
       "      <td>0.00000</td>\n",
       "      <td>5sat</td>\n",
       "      <td>3</td>\n",
       "      <td>5sat_03</td>\n",
       "    </tr>\n",
       "    <tr>\n",
       "      <th>2018-09-14 15:00:00+03:00</th>\n",
       "      <td>6006</td>\n",
       "      <td>0.18035</td>\n",
       "      <td>0.18035</td>\n",
       "      <td>4fri</td>\n",
       "      <td>15</td>\n",
       "      <td>4fri_15</td>\n",
       "    </tr>\n",
       "    <tr>\n",
       "      <th>2018-09-06 10:00:00+03:00</th>\n",
       "      <td>0</td>\n",
       "      <td>0.00000</td>\n",
       "      <td>0.00000</td>\n",
       "      <td>3thu</td>\n",
       "      <td>10</td>\n",
       "      <td>3thu_10</td>\n",
       "    </tr>\n",
       "    <tr>\n",
       "      <th>2018-10-01 23:00:00+03:00</th>\n",
       "      <td>0</td>\n",
       "      <td>0.00000</td>\n",
       "      <td>0.00000</td>\n",
       "      <td>0mon</td>\n",
       "      <td>23</td>\n",
       "      <td>0mon_23</td>\n",
       "    </tr>\n",
       "    <tr>\n",
       "      <th>2018-09-20 22:00:00+03:00</th>\n",
       "      <td>0</td>\n",
       "      <td>0.00000</td>\n",
       "      <td>0.00000</td>\n",
       "      <td>3thu</td>\n",
       "      <td>22</td>\n",
       "      <td>3thu_22</td>\n",
       "    </tr>\n",
       "    <tr>\n",
       "      <th>2018-09-09 13:00:00+03:00</th>\n",
       "      <td>0</td>\n",
       "      <td>0.00000</td>\n",
       "      <td>0.00000</td>\n",
       "      <td>6sun</td>\n",
       "      <td>13</td>\n",
       "      <td>6sun_13</td>\n",
       "    </tr>\n",
       "    <tr>\n",
       "      <th>2018-09-27 17:00:00+03:00</th>\n",
       "      <td>6220</td>\n",
       "      <td>0.18679</td>\n",
       "      <td>0.18679</td>\n",
       "      <td>3thu</td>\n",
       "      <td>17</td>\n",
       "      <td>3thu_17</td>\n",
       "    </tr>\n",
       "    <tr>\n",
       "      <th>2018-09-27 09:00:00+03:00</th>\n",
       "      <td>887</td>\n",
       "      <td>0.02664</td>\n",
       "      <td>0.02664</td>\n",
       "      <td>3thu</td>\n",
       "      <td>9</td>\n",
       "      <td>3thu_09</td>\n",
       "    </tr>\n",
       "    <tr>\n",
       "      <th>2018-09-09 16:00:00+03:00</th>\n",
       "      <td>31370</td>\n",
       "      <td>0.94200</td>\n",
       "      <td>0.94200</td>\n",
       "      <td>6sun</td>\n",
       "      <td>16</td>\n",
       "      <td>6sun_16</td>\n",
       "    </tr>\n",
       "    <tr>\n",
       "      <th>2018-10-14 02:00:00+03:00</th>\n",
       "      <td>0</td>\n",
       "      <td>0.00000</td>\n",
       "      <td>0.00000</td>\n",
       "      <td>6sun</td>\n",
       "      <td>2</td>\n",
       "      <td>6sun_02</td>\n",
       "    </tr>\n",
       "  </tbody>\n",
       "</table>\n",
       "</div>"
      ],
      "text/plain": [
       "                             rpm  kw_factor  production_factor   day  \\\n",
       "time_local                                                             \n",
       "2018-09-22 03:00:00+03:00      0    0.00000            0.00000  5sat   \n",
       "2018-09-14 15:00:00+03:00   6006    0.18035            0.18035  4fri   \n",
       "2018-09-06 10:00:00+03:00      0    0.00000            0.00000  3thu   \n",
       "2018-10-01 23:00:00+03:00      0    0.00000            0.00000  0mon   \n",
       "2018-09-20 22:00:00+03:00      0    0.00000            0.00000  3thu   \n",
       "2018-09-09 13:00:00+03:00      0    0.00000            0.00000  6sun   \n",
       "2018-09-27 17:00:00+03:00   6220    0.18679            0.18679  3thu   \n",
       "2018-09-27 09:00:00+03:00    887    0.02664            0.02664  3thu   \n",
       "2018-09-09 16:00:00+03:00  31370    0.94200            0.94200  6sun   \n",
       "2018-10-14 02:00:00+03:00      0    0.00000            0.00000  6sun   \n",
       "\n",
       "                           hour_of_day day_hour  \n",
       "time_local                                       \n",
       "2018-09-22 03:00:00+03:00            3  5sat_03  \n",
       "2018-09-14 15:00:00+03:00           15  4fri_15  \n",
       "2018-09-06 10:00:00+03:00           10  3thu_10  \n",
       "2018-10-01 23:00:00+03:00           23  0mon_23  \n",
       "2018-09-20 22:00:00+03:00           22  3thu_22  \n",
       "2018-09-09 13:00:00+03:00           13  6sun_13  \n",
       "2018-09-27 17:00:00+03:00           17  3thu_17  \n",
       "2018-09-27 09:00:00+03:00            9  3thu_09  \n",
       "2018-09-09 16:00:00+03:00           16  6sun_16  \n",
       "2018-10-14 02:00:00+03:00            2  6sun_02  "
      ]
     },
     "execution_count": 30,
     "metadata": {},
     "output_type": "execute_result"
    }
   ],
   "source": [
    "# Add the name of the day of the week to the dataframe (Saturday).\n",
    "# Prepend that name with a number of the day of the week.\n",
    "# Monday is 0, Tuesday is 1 and so on. This will allows tools to \n",
    "# order the days so they are in order: 0Monday, 1Tuesday, otherwise \n",
    "# they will be ordered alphabetical.\n",
    "df_measured[\"day\"] = df_measured.index.dayofweek.map(str) + df_measured.index.day_name()\n",
    "df_measured[\"day\"] = df_measured[\"day\"].apply(shorten_day_name)\n",
    "\n",
    "# Add hour of day (as a number)\n",
    "df_measured['hour_of_day'] = df_measured.index.hour \n",
    "\n",
    "# Add day_hour. For example: 4fri_10\n",
    "# Possible source of confusion: \n",
    "# 4fri is just friday. 4fri_10 is Friday at 10am. \n",
    "df_measured[\"day_hour\"] = df_measured.apply(lambda row: composite_val(row['day'], row['hour_of_day']), axis=1)\n",
    "\n",
    "df_measured.sample(10)"
   ]
  },
  {
   "cell_type": "markdown",
   "metadata": {},
   "source": [
    "## Generate data for yearly usage profile sampling"
   ]
  },
  {
   "cell_type": "code",
   "execution_count": 31,
   "metadata": {},
   "outputs": [],
   "source": [
    "def create_usage_profile_data(df, column):\n",
    "    \"\"\"\n",
    "    Create a dictionary, where each key is a day_hour and each value \n",
    "    is a list of measured usage factor values. \n",
    "    Takes a Pandas dataframe and returns a python dictionary that can be \n",
    "    encoded into JSON for other applications.\n",
    "    We may be able to use groupby for a more succinct function, but this works\n",
    "    \"\"\"\n",
    "    dict = defaultdict(list)\n",
    "    for index, row in df.iterrows():\n",
    "        key = row['day_hour']\n",
    "        dict[key].append(row[column])\n",
    "    return dict"
   ]
  },
  {
   "cell_type": "code",
   "execution_count": 32,
   "metadata": {},
   "outputs": [],
   "source": [
    "measured_usage_kw_factors = create_usage_profile_data(df_measured, 'kw_factor')\n",
    "# measured_usage_kw_factors"
   ]
  },
  {
   "cell_type": "code",
   "execution_count": 33,
   "metadata": {},
   "outputs": [],
   "source": [
    "measured_usage_grain_factors = create_usage_profile_data(df_measured, 'production_factor')\n",
    "# measured_usage_grain_factors"
   ]
  },
  {
   "cell_type": "markdown",
   "metadata": {},
   "source": [
    "## Export usage data for web app"
   ]
  },
  {
   "cell_type": "code",
   "execution_count": 34,
   "metadata": {},
   "outputs": [],
   "source": [
    "with open(output_generator_kw_data_name, 'w') as fp:\n",
    "    json.dump(measured_usage_kw_factors, fp)\n",
    "    \n",
    "with open(output_generator_grain_data_name, 'w') as fp:\n",
    "    json.dump(measured_usage_grain_factors, fp)"
   ]
  },
  {
   "cell_type": "markdown",
   "metadata": {},
   "source": [
    "## Generating yearly usage profile\n",
    "Now that we have usage profile data, generate a complete year's usage profile"
   ]
  },
  {
   "cell_type": "code",
   "execution_count": 35,
   "metadata": {},
   "outputs": [],
   "source": [
    "def create_year_range_df(year=2018):\n",
    "    \"\"\"\n",
    "    Creates a dataframe with a full year's dates as the index. \n",
    "    Add extra derived columns based on that datetime index: \n",
    "    (hour, day, hour_of_day, day_hour).\n",
    "    This dataframe does not contain any appliance data\n",
    "    \"\"\"\n",
    "    start_date_str = '1/1/{}'.format(year + 1)\n",
    "    start_date = pd.to_datetime(start_date_str) - pd.Timedelta(days=365)\n",
    "    hourly_periods = 8760\n",
    "    date_range = pd.date_range(start_date, periods=hourly_periods, freq='H')\n",
    "    year_hours = list(range(len(date_range)))\n",
    "    \n",
    "    # Create a full year with a datetime index (8760 hours)\n",
    "    df_year = pd.DataFrame({\"hour\": year_hours}, index=date_range)\n",
    "    \n",
    "    # Now add day of week, hour of day and day_hour columns\n",
    "    df_year['day'] = df_year.index.dayofweek.map(str) + df_year.index.day_name()\n",
    "    df_year['day'] = df_year[\"day\"].apply(shorten_day_name)\n",
    "    df_year['hour_of_day'] = df_year.index.hour\n",
    "    df_year[\"day_hour\"] = df_year.apply(lambda row: composite_val(row['day'], row['hour_of_day']), axis=1)\n",
    "    return df_year\n",
    "\n",
    "# Uncomment these to test results. \n",
    "# This function is called from generate_usage_profile() \n",
    "# df_year_example = create_year_range_df()\n",
    "# df_year_example.head()"
   ]
  },
  {
   "cell_type": "code",
   "execution_count": 36,
   "metadata": {},
   "outputs": [
    {
     "data": {
      "text/html": [
       "<div>\n",
       "<style scoped>\n",
       "    .dataframe tbody tr th:only-of-type {\n",
       "        vertical-align: middle;\n",
       "    }\n",
       "\n",
       "    .dataframe tbody tr th {\n",
       "        vertical-align: top;\n",
       "    }\n",
       "\n",
       "    .dataframe thead th {\n",
       "        text-align: right;\n",
       "    }\n",
       "</style>\n",
       "<table border=\"1\" class=\"dataframe\">\n",
       "  <thead>\n",
       "    <tr style=\"text-align: right;\">\n",
       "      <th></th>\n",
       "      <th>hour</th>\n",
       "      <th>day</th>\n",
       "      <th>hour_of_day</th>\n",
       "      <th>day_hour</th>\n",
       "      <th>kw_factor</th>\n",
       "      <th>production_factor</th>\n",
       "    </tr>\n",
       "  </thead>\n",
       "  <tbody>\n",
       "    <tr>\n",
       "      <th>2018-01-01 00:00:00</th>\n",
       "      <td>0</td>\n",
       "      <td>0mon</td>\n",
       "      <td>0</td>\n",
       "      <td>0mon_00</td>\n",
       "      <td>0.0</td>\n",
       "      <td>0.0</td>\n",
       "    </tr>\n",
       "    <tr>\n",
       "      <th>2018-01-01 01:00:00</th>\n",
       "      <td>1</td>\n",
       "      <td>0mon</td>\n",
       "      <td>1</td>\n",
       "      <td>0mon_01</td>\n",
       "      <td>0.0</td>\n",
       "      <td>0.0</td>\n",
       "    </tr>\n",
       "    <tr>\n",
       "      <th>2018-01-01 02:00:00</th>\n",
       "      <td>2</td>\n",
       "      <td>0mon</td>\n",
       "      <td>2</td>\n",
       "      <td>0mon_02</td>\n",
       "      <td>0.0</td>\n",
       "      <td>0.0</td>\n",
       "    </tr>\n",
       "    <tr>\n",
       "      <th>2018-01-01 03:00:00</th>\n",
       "      <td>3</td>\n",
       "      <td>0mon</td>\n",
       "      <td>3</td>\n",
       "      <td>0mon_03</td>\n",
       "      <td>0.0</td>\n",
       "      <td>0.0</td>\n",
       "    </tr>\n",
       "    <tr>\n",
       "      <th>2018-01-01 04:00:00</th>\n",
       "      <td>4</td>\n",
       "      <td>0mon</td>\n",
       "      <td>4</td>\n",
       "      <td>0mon_04</td>\n",
       "      <td>0.0</td>\n",
       "      <td>0.0</td>\n",
       "    </tr>\n",
       "    <tr>\n",
       "      <th>2018-01-01 05:00:00</th>\n",
       "      <td>5</td>\n",
       "      <td>0mon</td>\n",
       "      <td>5</td>\n",
       "      <td>0mon_05</td>\n",
       "      <td>0.0</td>\n",
       "      <td>0.0</td>\n",
       "    </tr>\n",
       "    <tr>\n",
       "      <th>2018-01-01 06:00:00</th>\n",
       "      <td>6</td>\n",
       "      <td>0mon</td>\n",
       "      <td>6</td>\n",
       "      <td>0mon_06</td>\n",
       "      <td>0.0</td>\n",
       "      <td>0.0</td>\n",
       "    </tr>\n",
       "    <tr>\n",
       "      <th>2018-01-01 07:00:00</th>\n",
       "      <td>7</td>\n",
       "      <td>0mon</td>\n",
       "      <td>7</td>\n",
       "      <td>0mon_07</td>\n",
       "      <td>0.0</td>\n",
       "      <td>0.0</td>\n",
       "    </tr>\n",
       "    <tr>\n",
       "      <th>2018-01-01 08:00:00</th>\n",
       "      <td>8</td>\n",
       "      <td>0mon</td>\n",
       "      <td>8</td>\n",
       "      <td>0mon_08</td>\n",
       "      <td>0.0</td>\n",
       "      <td>0.0</td>\n",
       "    </tr>\n",
       "    <tr>\n",
       "      <th>2018-01-01 09:00:00</th>\n",
       "      <td>9</td>\n",
       "      <td>0mon</td>\n",
       "      <td>9</td>\n",
       "      <td>0mon_09</td>\n",
       "      <td>0.0</td>\n",
       "      <td>0.0</td>\n",
       "    </tr>\n",
       "  </tbody>\n",
       "</table>\n",
       "</div>"
      ],
      "text/plain": [
       "                     hour   day  hour_of_day day_hour  kw_factor  \\\n",
       "2018-01-01 00:00:00     0  0mon            0  0mon_00        0.0   \n",
       "2018-01-01 01:00:00     1  0mon            1  0mon_01        0.0   \n",
       "2018-01-01 02:00:00     2  0mon            2  0mon_02        0.0   \n",
       "2018-01-01 03:00:00     3  0mon            3  0mon_03        0.0   \n",
       "2018-01-01 04:00:00     4  0mon            4  0mon_04        0.0   \n",
       "2018-01-01 05:00:00     5  0mon            5  0mon_05        0.0   \n",
       "2018-01-01 06:00:00     6  0mon            6  0mon_06        0.0   \n",
       "2018-01-01 07:00:00     7  0mon            7  0mon_07        0.0   \n",
       "2018-01-01 08:00:00     8  0mon            8  0mon_08        0.0   \n",
       "2018-01-01 09:00:00     9  0mon            9  0mon_09        0.0   \n",
       "\n",
       "                     production_factor  \n",
       "2018-01-01 00:00:00                0.0  \n",
       "2018-01-01 01:00:00                0.0  \n",
       "2018-01-01 02:00:00                0.0  \n",
       "2018-01-01 03:00:00                0.0  \n",
       "2018-01-01 04:00:00                0.0  \n",
       "2018-01-01 05:00:00                0.0  \n",
       "2018-01-01 06:00:00                0.0  \n",
       "2018-01-01 07:00:00                0.0  \n",
       "2018-01-01 08:00:00                0.0  \n",
       "2018-01-01 09:00:00                0.0  "
      ]
     },
     "execution_count": 36,
     "metadata": {},
     "output_type": "execute_result"
    }
   ],
   "source": [
    "#df_year['kw_factor'] = df_year.apply(partial(sample_usage_index, kw_factor), axis=1)\n",
    "# df_year['production_factor'] = df_year.apply(partial(sample_usage_index, production_factor), axis=1) \n",
    "\n",
    "\n",
    "def sample_usage_index(usage_factors, day_hour):\n",
    "    \"\"\"\n",
    "    Takes the measured usage dictionary and a dataframe row\n",
    "    from the empty yearly profile created in create_year_range_df. \n",
    "    Using the day_hour from that dataframe row, take a random\n",
    "    sample of the same day_hour from the measured data.\n",
    "    \"\"\"\n",
    "    choice_index_range = range(len(usage_factors[day_hour]))\n",
    "    return random.choice(choice_index_range)\n",
    "    \n",
    "\n",
    "def generate_usage_profile(kw_factors, production_factors, year=2018):\n",
    "    \"\"\"\n",
    "    Generate a full year's usage profile by sampling measured data \n",
    "    Takes the measured usage dictionary for both kW and grain factor\n",
    "    and optional year.\n",
    "    Returns a dataframe of hourly intevals with sampled appliance values\n",
    "    \"\"\"\n",
    "    # Create dataframe with a full year of hourly intervals\n",
    "    df_year = create_year_range_df(year)\n",
    "\n",
    "    # We need to make sure we take the same sample from both kw_factors and production_factors\n",
    "    # So instead of returning a factor from the sampling, return an index of the list of factors  \n",
    "    for row_index, row in df_year.iterrows():\n",
    "        day_hour = row['day_hour']\n",
    "        usage_index = sample_usage_index(kw_factors, day_hour)\n",
    "        \n",
    "        # Add new columns with the sample values\n",
    "        df_year.at[row_index, 'kw_factor'] = kw_factors[day_hour][usage_index]\n",
    "        df_year.at[row_index, 'production_factor'] = production_factors[day_hour][usage_index]\n",
    "        \n",
    "    return df_year\n",
    "\n",
    "\n",
    "df_generated_usage_profile = generate_usage_profile(measured_usage_kw_factors, measured_usage_grain_factors)\n",
    "df_generated_usage_profile.head(10)"
   ]
  },
  {
   "cell_type": "code",
   "execution_count": 37,
   "metadata": {},
   "outputs": [
    {
     "data": {
      "text/html": [
       "<div>\n",
       "<style scoped>\n",
       "    .dataframe tbody tr th:only-of-type {\n",
       "        vertical-align: middle;\n",
       "    }\n",
       "\n",
       "    .dataframe tbody tr th {\n",
       "        vertical-align: top;\n",
       "    }\n",
       "\n",
       "    .dataframe thead th {\n",
       "        text-align: right;\n",
       "    }\n",
       "</style>\n",
       "<table border=\"1\" class=\"dataframe\">\n",
       "  <thead>\n",
       "    <tr style=\"text-align: right;\">\n",
       "      <th></th>\n",
       "      <th>hour</th>\n",
       "      <th>hour_of_day</th>\n",
       "      <th>kw_factor</th>\n",
       "      <th>production_factor</th>\n",
       "    </tr>\n",
       "  </thead>\n",
       "  <tbody>\n",
       "    <tr>\n",
       "      <th>count</th>\n",
       "      <td>8760.000000</td>\n",
       "      <td>8760.000000</td>\n",
       "      <td>8760.000000</td>\n",
       "      <td>8760.000000</td>\n",
       "    </tr>\n",
       "    <tr>\n",
       "      <th>mean</th>\n",
       "      <td>4379.500000</td>\n",
       "      <td>11.500000</td>\n",
       "      <td>0.053675</td>\n",
       "      <td>0.053675</td>\n",
       "    </tr>\n",
       "    <tr>\n",
       "      <th>std</th>\n",
       "      <td>2528.938512</td>\n",
       "      <td>6.922582</td>\n",
       "      <td>0.124905</td>\n",
       "      <td>0.124905</td>\n",
       "    </tr>\n",
       "    <tr>\n",
       "      <th>min</th>\n",
       "      <td>0.000000</td>\n",
       "      <td>0.000000</td>\n",
       "      <td>0.000000</td>\n",
       "      <td>0.000000</td>\n",
       "    </tr>\n",
       "    <tr>\n",
       "      <th>25%</th>\n",
       "      <td>2189.750000</td>\n",
       "      <td>5.750000</td>\n",
       "      <td>0.000000</td>\n",
       "      <td>0.000000</td>\n",
       "    </tr>\n",
       "    <tr>\n",
       "      <th>50%</th>\n",
       "      <td>4379.500000</td>\n",
       "      <td>11.500000</td>\n",
       "      <td>0.000000</td>\n",
       "      <td>0.000000</td>\n",
       "    </tr>\n",
       "    <tr>\n",
       "      <th>75%</th>\n",
       "      <td>6569.250000</td>\n",
       "      <td>17.250000</td>\n",
       "      <td>0.027053</td>\n",
       "      <td>0.027053</td>\n",
       "    </tr>\n",
       "    <tr>\n",
       "      <th>max</th>\n",
       "      <td>8759.000000</td>\n",
       "      <td>23.000000</td>\n",
       "      <td>0.942000</td>\n",
       "      <td>0.942000</td>\n",
       "    </tr>\n",
       "  </tbody>\n",
       "</table>\n",
       "</div>"
      ],
      "text/plain": [
       "              hour  hour_of_day    kw_factor  production_factor\n",
       "count  8760.000000  8760.000000  8760.000000        8760.000000\n",
       "mean   4379.500000    11.500000     0.053675           0.053675\n",
       "std    2528.938512     6.922582     0.124905           0.124905\n",
       "min       0.000000     0.000000     0.000000           0.000000\n",
       "25%    2189.750000     5.750000     0.000000           0.000000\n",
       "50%    4379.500000    11.500000     0.000000           0.000000\n",
       "75%    6569.250000    17.250000     0.027053           0.027053\n",
       "max    8759.000000    23.000000     0.942000           0.942000"
      ]
     },
     "execution_count": 37,
     "metadata": {},
     "output_type": "execute_result"
    }
   ],
   "source": [
    "df_generated_usage_profile.describe()"
   ]
  },
  {
   "cell_type": "code",
   "execution_count": 38,
   "metadata": {},
   "outputs": [
    {
     "data": {
      "text/html": [
       "\n",
       "        <iframe\n",
       "            width=\"100%\"\n",
       "            height=\"500\"\n",
       "            src=\"pivottablejs.html\"\n",
       "            frameborder=\"0\"\n",
       "            allowfullscreen\n",
       "        ></iframe>\n",
       "        "
      ],
      "text/plain": [
       "<IPython.lib.display.IFrame at 0x1a1717b6a0>"
      ]
     },
     "execution_count": 38,
     "metadata": {},
     "output_type": "execute_result"
    }
   ],
   "source": [
    "# Measured Hourly Averages\n",
    "pivot_ui(df_measured,\n",
    "        cols=['hour_of_day'],\n",
    "        rendererName='Table Barchart',\n",
    "        aggregatorName='Average',\n",
    "        vals=['kw_factor'])"
   ]
  },
  {
   "cell_type": "code",
   "execution_count": 39,
   "metadata": {},
   "outputs": [],
   "source": [
    "# ![Screenshot](screenshots/rice_mill_measured_hourly_avg.png)"
   ]
  },
  {
   "cell_type": "code",
   "execution_count": 40,
   "metadata": {},
   "outputs": [
    {
     "data": {
      "text/html": [
       "\n",
       "        <iframe\n",
       "            width=\"100%\"\n",
       "            height=\"500\"\n",
       "            src=\"pivottablejs.html\"\n",
       "            frameborder=\"0\"\n",
       "            allowfullscreen\n",
       "        ></iframe>\n",
       "        "
      ],
      "text/plain": [
       "<IPython.lib.display.IFrame at 0x1a211ad780>"
      ]
     },
     "execution_count": 40,
     "metadata": {},
     "output_type": "execute_result"
    }
   ],
   "source": [
    "# Generated Hourly Averages\n",
    "pivot_ui(df_generated_usage_profile,\n",
    "        cols=['hour_of_day'],\n",
    "        rendererName='Table Barchart',\n",
    "        aggregatorName='Average',\n",
    "        vals=['kw_factor'])"
   ]
  },
  {
   "cell_type": "code",
   "execution_count": 41,
   "metadata": {},
   "outputs": [],
   "source": [
    "# ![Screenshot](screenshots/rice_mill_generated_hourly_avg.png)"
   ]
  },
  {
   "cell_type": "code",
   "execution_count": 42,
   "metadata": {},
   "outputs": [],
   "source": [
    "# ![Screenshot](screenshots/rice_mill_measured_daily_avg.png)"
   ]
  },
  {
   "cell_type": "code",
   "execution_count": 43,
   "metadata": {
    "scrolled": false
   },
   "outputs": [
    {
     "data": {
      "text/html": [
       "\n",
       "        <iframe\n",
       "            width=\"100%\"\n",
       "            height=\"500\"\n",
       "            src=\"pivottablejs.html\"\n",
       "            frameborder=\"0\"\n",
       "            allowfullscreen\n",
       "        ></iframe>\n",
       "        "
      ],
      "text/plain": [
       "<IPython.lib.display.IFrame at 0x1a212942e8>"
      ]
     },
     "execution_count": 43,
     "metadata": {},
     "output_type": "execute_result"
    }
   ],
   "source": [
    "# Measured Daily Averages\n",
    "pivot_ui(df_measured,\n",
    "        cols=['day'],\n",
    "        rendererName='Table Barchart',\n",
    "        aggregatorName='Average',\n",
    "        vals=['kw_factor'])"
   ]
  },
  {
   "cell_type": "code",
   "execution_count": 44,
   "metadata": {},
   "outputs": [
    {
     "data": {
      "text/html": [
       "\n",
       "        <iframe\n",
       "            width=\"100%\"\n",
       "            height=\"500\"\n",
       "            src=\"pivottablejs.html\"\n",
       "            frameborder=\"0\"\n",
       "            allowfullscreen\n",
       "        ></iframe>\n",
       "        "
      ],
      "text/plain": [
       "<IPython.lib.display.IFrame at 0x1a1753ed68>"
      ]
     },
     "execution_count": 44,
     "metadata": {},
     "output_type": "execute_result"
    }
   ],
   "source": [
    "# Generated Daily Averages\n",
    "pivot_ui(df_generated_usage_profile,\n",
    "        cols=['day'],\n",
    "        rendererName='Table Barchart',\n",
    "        aggregatorName='Average',\n",
    "        vals=['kw_factor'])"
   ]
  },
  {
   "cell_type": "code",
   "execution_count": 45,
   "metadata": {},
   "outputs": [],
   "source": [
    "# ![Screenshot](screenshots/rice_mill_generated_daily_avg.png)"
   ]
  },
  {
   "cell_type": "code",
   "execution_count": 46,
   "metadata": {},
   "outputs": [
    {
     "data": {
      "text/plain": [
       "<matplotlib.axes._subplots.AxesSubplot at 0x1a21294d68>"
      ]
     },
     "execution_count": 46,
     "metadata": {},
     "output_type": "execute_result"
    },
    {
     "data": {
      "image/png": "[encoded data removed]",
      "text/plain": [
       "<matplotlib.figure.Figure at 0x1a212946d8>"
      ]
     },
     "metadata": {},
     "output_type": "display_data"
    }
   ],
   "source": [
    "# Show a week's worth of mill usage:\n",
    "df_week_6 = df_generated_usage_profile.loc[df_generated_usage_profile.index.week == 5]\n",
    "df_week_6.plot(y='kw_factor', figsize=(20, 4))"
   ]
  },
  {
   "cell_type": "code",
   "execution_count": 47,
   "metadata": {},
   "outputs": [
    {
     "data": {
      "text/plain": [
       "<matplotlib.axes._subplots.AxesSubplot at 0x1a2142a630>"
      ]
     },
     "execution_count": 47,
     "metadata": {},
     "output_type": "execute_result"
    },
    {
     "data": {
      "image/png": "[encoded data removed]",
      "text/plain": [
       "<matplotlib.figure.Figure at 0x1a20e1f8d0>"
      ]
     },
     "metadata": {},
     "output_type": "display_data"
    }
   ],
   "source": [
    "# Show a month's worth of mill usage:\n",
    "df_february = df_generated_usage_profile.loc[df_generated_usage_profile.index.month == 4]\n",
    "df_february.plot(y='kw_factor', figsize=(20, 4))"
   ]
  },
  {
   "cell_type": "code",
   "execution_count": 48,
   "metadata": {},
   "outputs": [
    {
     "data": {
      "text/plain": [
       "<matplotlib.axes._subplots.AxesSubplot at 0x1a17b7fa20>"
      ]
     },
     "execution_count": 48,
     "metadata": {},
     "output_type": "execute_result"
    },
    {
     "data": {
      "image/png": "[encoded data removed]",
      "text/plain": [
       "<matplotlib.figure.Figure at 0x1a17b8b5c0>"
      ]
     },
     "metadata": {},
     "output_type": "display_data"
    }
   ],
   "source": [
    "# Show entire year's worth of mill usage:\n",
    "df_generated_usage_profile.plot(y='kw_factor', figsize=(20, 4))"
   ]
  },
  {
   "cell_type": "markdown",
   "metadata": {},
   "source": [
    "## Export yearly usage profile \n",
    "The web app doesn't need this data but it can be used for other analysis"
   ]
  },
  {
   "cell_type": "code",
   "execution_count": 49,
   "metadata": {},
   "outputs": [
    {
     "name": "stdout",
     "output_type": "stream",
     "text": [
      "outputting to:  output/rice_mill_usage_profile.csv\n"
     ]
    }
   ],
   "source": [
    "print(\"outputting to: \", output_profile_name)\n",
    "df_generated_usage_profile.to_csv(output_profile_name, index_label='datetime')"
   ]
  },
  {
   "cell_type": "code",
   "execution_count": null,
   "metadata": {},
   "outputs": [],
   "source": []
  }
 ],
 "metadata": {
  "kernelspec": {
   "display_name": "Python 3",
   "language": "python",
   "name": "python3"
  },
  "language_info": {
   "codemirror_mode": {
    "name": "ipython",
    "version": 3
   },
   "file_extension": ".py",
   "mimetype": "text/x-python",
   "name": "python",
   "nbconvert_exporter": "python",
   "pygments_lexer": "ipython3",
   "version": "3.6.4"
  }
 },
 "nbformat": 4,
 "nbformat_minor": 2
}
