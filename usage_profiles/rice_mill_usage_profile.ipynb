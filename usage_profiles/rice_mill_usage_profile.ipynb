{
 "cells": [
  {
   "cell_type": "markdown",
   "metadata": {},
   "source": [
    "# Create yearly mill usage profile based on measured usage\n",
    "\n",
    "This notebook will follow a very similar approach to the welder notebook here: https://github.com/RadiantLabs/microgrid-appliance-analysis/blob/master/scripts/usage_profiles/welder_usage_profile.ipynb \n",
    "\n",
    "I will include a lot less context in this notebook for now. I can fill it out later if needed.\n",
    "\n",
    "### Definitions\n",
    "**Usage Profile**: A usage profile is a unitless series of how often the mill is used on an hourly basis throughout a year. Being unitless allows us to apply costs, power or other factors to generate load, throughput or cost profiles. \n",
    "\n",
    "**day_hour**: Monday at 2pm is a single `day_hour` for example. Monday at 3pm is a different `day_hour`. There are 24 hours x 7 days = 168 `day_hour`s.\n",
    "\n",
    "### General Steps\n",
    "1. Import measured usage data from a mill. This data is in 2 minute increments and the number of mill revolutions every 2 minutes.\n",
    "2. Create a unitless utilization factor based on RPM. Create a separate factor for both kW and grain (production) throughput.\n",
    "3. Resample 2 minute data to 1 hour data, summing new utilization factors. \n",
    "4. Group data by `day_hour`s and export for web app\n",
    "5. Generate a yearly profile by randomly sampling measured `day_hour`s and applying them to the rest of the year.\n",
    "6. Compare stats of yearly usage profile to measured usage profile to make sure we made reasonable assumptions\n",
    "\n",
    "We probably don't need to interpolate, since we have 5-6 measured values per `day_hour`\n",
    "\n",
    "### Questions and TODOs\n",
    "* Set column header for datetime (app needs this)\n",
    "* Set hour_of_year to Hour (app needs this)\n",
    "* Understand why operators run mills consistently at half RPMs or what the full rated load is:\n",
    "> Amanda: is the engine running harder than full rated load during these times? I think so, because it would then mean that most of the activity is happening around 80% of full rated load, which is normal for a diesel engine\n",
    "* Find performance curves:\n",
    "    1. rpm-to-power: From common mills (https://www.alibaba.com/product-detail/Changfa-type-20-hp-S1115-single_60629667381.html?spm=a2700.7724857.normalList.30.48f321e0kzd6H9), we can see that 16.2kW = 2200 RPM which would imply this mill is running at half speed most of the time. Also, we don't know the kW at 1100 where these mills are mostly running \n",
    "    2. rpm-to-grain-throughput\n",
    "\n",
    "\n",
    "### Running this notebook\n",
    "Jupyter notebooks are very flexible but have problems with out-of-order function executions.\n",
    "For example, dropping a column once and then trying to drop the same column again because\n",
    "you're evaluating the same cell will throw an error. \n",
    "\n",
    "Go to Cell > Run All from the menu often or if having problems. For final output, always run it."
   ]
  },
  {
   "cell_type": "markdown",
   "metadata": {},
   "source": [
    "## Setup & Library Imports"
   ]
  },
  {
   "cell_type": "code",
   "execution_count": 64,
   "metadata": {},
   "outputs": [
    {
     "data": {
      "text/plain": [
       "'0.23.4'"
      ]
     },
     "execution_count": 64,
     "metadata": {},
     "output_type": "execute_result"
    }
   ],
   "source": [
    "# Reset all variables so that we can 'run all cells' and not get unused variables hanging around\n",
    "%reset -f\n",
    "\n",
    "# Most of this comes with anaconda distribution. I thinkt the only one \n",
    "# you have to install is:\n",
    "# conda install pivottablejs\n",
    "import pandas as pd\n",
    "from scipy.stats import mode\n",
    "from pivottablejs import pivot_ui\n",
    "from collections import defaultdict\n",
    "from functools import partial\n",
    "import random\n",
    "import json\n",
    "import pytz\n",
    "\n",
    "# Should have pandas 0.23 or greater. If not and you're using Anaconda for packages, \n",
    "# do this in the terminal: `conda update pandas`\n",
    "pd.__version__    "
   ]
  },
  {
   "cell_type": "markdown",
   "metadata": {},
   "source": [
    "## Import Mill Data"
   ]
  },
  {
   "cell_type": "code",
   "execution_count": 65,
   "metadata": {},
   "outputs": [],
   "source": [
    "# Uncomment / comment based on the mill you want to analyze\n",
    "\n",
    "## Rice Mill (Original)\n",
    "# excel_file_path = 'inputs/RiceHulling_LP_Tanzania 20180908-20181018.xlsx'\n",
    "# sheet_name = 'RiceHulling_LP_Tanzania'\n",
    "# output_generator_kw_data_name = 'output/rice_mill_kw_generator_data.json'\n",
    "# output_generator_grain_data_name = 'output/rice_mill_grain_generator_data.json'\n",
    "# output_profile_name = 'output/rice_mill_usage_profile.csv'\n",
    "\n",
    "## Rice Mill (UTC)\n",
    "excel_file_path = 'inputs/RiceHulling_LP_Tanzania 20180908-20181110_UTC.xlsx'\n",
    "sheet_name = 'download (1)'\n",
    "output_generator_kw_data_name = 'output/rice_mill_kw_generator_data.json'\n",
    "output_generator_grain_data_name = 'output/rice_mill_grain_generator_data.json'\n",
    "output_profile_name = 'output/rice_mill_usage_profile.csv'"
   ]
  },
  {
   "cell_type": "code",
   "execution_count": 66,
   "metadata": {},
   "outputs": [
    {
     "data": {
      "text/html": [
       "<div>\n",
       "<style scoped>\n",
       "    .dataframe tbody tr th:only-of-type {\n",
       "        vertical-align: middle;\n",
       "    }\n",
       "\n",
       "    .dataframe tbody tr th {\n",
       "        vertical-align: top;\n",
       "    }\n",
       "\n",
       "    .dataframe thead th {\n",
       "        text-align: right;\n",
       "    }\n",
       "</style>\n",
       "<table border=\"1\" class=\"dataframe\">\n",
       "  <thead>\n",
       "    <tr style=\"text-align: right;\">\n",
       "      <th></th>\n",
       "      <th>time_utc</th>\n",
       "      <th>2min_count</th>\n",
       "    </tr>\n",
       "  </thead>\n",
       "  <tbody>\n",
       "    <tr>\n",
       "      <th>0</th>\n",
       "      <td>2018-09-01 19:47:22.000</td>\n",
       "      <td>10</td>\n",
       "    </tr>\n",
       "    <tr>\n",
       "      <th>1</th>\n",
       "      <td>2018-09-01 19:49:22.124</td>\n",
       "      <td>29</td>\n",
       "    </tr>\n",
       "    <tr>\n",
       "      <th>2</th>\n",
       "      <td>2018-09-07 14:38:44.000</td>\n",
       "      <td>0</td>\n",
       "    </tr>\n",
       "    <tr>\n",
       "      <th>3</th>\n",
       "      <td>2018-09-07 14:40:44.000</td>\n",
       "      <td>0</td>\n",
       "    </tr>\n",
       "    <tr>\n",
       "      <th>4</th>\n",
       "      <td>2018-09-07 14:42:44.000</td>\n",
       "      <td>0</td>\n",
       "    </tr>\n",
       "  </tbody>\n",
       "</table>\n",
       "</div>"
      ],
      "text/plain": [
       "                 time_utc  2min_count\n",
       "0 2018-09-01 19:47:22.000          10\n",
       "1 2018-09-01 19:49:22.124          29\n",
       "2 2018-09-07 14:38:44.000           0\n",
       "3 2018-09-07 14:40:44.000           0\n",
       "4 2018-09-07 14:42:44.000           0"
      ]
     },
     "execution_count": 66,
     "metadata": {},
     "output_type": "execute_result"
    }
   ],
   "source": [
    "# Import Excel file, specify the sheet & import it into a Pandas Dataframe.\n",
    "# df is short for Pandas DataFrame - it makes it clearer what this datastructure is\n",
    "df_measured_2min = pd.read_excel(excel_file_path, sheet_name=sheet_name)\n",
    "\n",
    "# Rename columns so they are shorter and easier to work with.\n",
    "df_measured_2min = df_measured_2min.rename(columns={'row': 'time_utc', 'value': '2min_count'})\n",
    "\n",
    "# Keep only relevant columns\n",
    "df_measured_2min = df_measured_2min[['time_utc', '2min_count']]\n",
    "df_measured_2min.head()"
   ]
  },
  {
   "cell_type": "code",
   "execution_count": 67,
   "metadata": {},
   "outputs": [
    {
     "data": {
      "text/plain": [
       "(45926, 2)"
      ]
     },
     "execution_count": 67,
     "metadata": {},
     "output_type": "execute_result"
    }
   ],
   "source": [
    "# (rows, columns)\n",
    "df_measured_2min.shape "
   ]
  },
  {
   "cell_type": "markdown",
   "metadata": {},
   "source": [
    "## Convert Timezone"
   ]
  },
  {
   "cell_type": "code",
   "execution_count": 68,
   "metadata": {},
   "outputs": [],
   "source": [
    "# To see all timezones available (but select only the first 55 to see Africa): \n",
    "# pytz.all_timezones[0:55]  "
   ]
  },
  {
   "cell_type": "code",
   "execution_count": 69,
   "metadata": {},
   "outputs": [],
   "source": [
    "# There was no Tanzania listed. Nairobi is +3 which is the same as Tanzania\n",
    "# There should not be a problem with daylight savings time - from my research neither observe it\n",
    "tanzania_tz = pytz.timezone('Africa/Nairobi')"
   ]
  },
  {
   "cell_type": "code",
   "execution_count": 70,
   "metadata": {},
   "outputs": [],
   "source": [
    "# Convert date string to proper datetime so we can work with timezones\n",
    "df_measured_2min['time_utc'] = pd.to_datetime(df_measured_2min['time_utc'])"
   ]
  },
  {
   "cell_type": "code",
   "execution_count": 71,
   "metadata": {
    "scrolled": true
   },
   "outputs": [
    {
     "data": {
      "text/html": [
       "<div>\n",
       "<style scoped>\n",
       "    .dataframe tbody tr th:only-of-type {\n",
       "        vertical-align: middle;\n",
       "    }\n",
       "\n",
       "    .dataframe tbody tr th {\n",
       "        vertical-align: top;\n",
       "    }\n",
       "\n",
       "    .dataframe thead th {\n",
       "        text-align: right;\n",
       "    }\n",
       "</style>\n",
       "<table border=\"1\" class=\"dataframe\">\n",
       "  <thead>\n",
       "    <tr style=\"text-align: right;\">\n",
       "      <th></th>\n",
       "      <th>time_utc</th>\n",
       "      <th>2min_count</th>\n",
       "      <th>time_local</th>\n",
       "    </tr>\n",
       "  </thead>\n",
       "  <tbody>\n",
       "    <tr>\n",
       "      <th>0</th>\n",
       "      <td>2018-09-01 19:47:22.000</td>\n",
       "      <td>10</td>\n",
       "      <td>2018-09-01 22:47:22+03:00</td>\n",
       "    </tr>\n",
       "    <tr>\n",
       "      <th>1</th>\n",
       "      <td>2018-09-01 19:49:22.124</td>\n",
       "      <td>29</td>\n",
       "      <td>2018-09-01 22:49:22.124000+03:00</td>\n",
       "    </tr>\n",
       "    <tr>\n",
       "      <th>2</th>\n",
       "      <td>2018-09-07 14:38:44.000</td>\n",
       "      <td>0</td>\n",
       "      <td>2018-09-07 17:38:44+03:00</td>\n",
       "    </tr>\n",
       "    <tr>\n",
       "      <th>3</th>\n",
       "      <td>2018-09-07 14:40:44.000</td>\n",
       "      <td>0</td>\n",
       "      <td>2018-09-07 17:40:44+03:00</td>\n",
       "    </tr>\n",
       "    <tr>\n",
       "      <th>4</th>\n",
       "      <td>2018-09-07 14:42:44.000</td>\n",
       "      <td>0</td>\n",
       "      <td>2018-09-07 17:42:44+03:00</td>\n",
       "    </tr>\n",
       "  </tbody>\n",
       "</table>\n",
       "</div>"
      ],
      "text/plain": [
       "                 time_utc  2min_count                       time_local\n",
       "0 2018-09-01 19:47:22.000          10        2018-09-01 22:47:22+03:00\n",
       "1 2018-09-01 19:49:22.124          29 2018-09-01 22:49:22.124000+03:00\n",
       "2 2018-09-07 14:38:44.000           0        2018-09-07 17:38:44+03:00\n",
       "3 2018-09-07 14:40:44.000           0        2018-09-07 17:40:44+03:00\n",
       "4 2018-09-07 14:42:44.000           0        2018-09-07 17:42:44+03:00"
      ]
     },
     "execution_count": 71,
     "metadata": {},
     "output_type": "execute_result"
    }
   ],
   "source": [
    "# Add local time\n",
    "df_measured_2min['time_local'] = df_measured_2min['time_utc'].dt.tz_localize('utc').dt.tz_convert(tanzania_tz)\n",
    "df_measured_2min = df_measured_2min\n",
    "df_measured_2min.head()"
   ]
  },
  {
   "cell_type": "code",
   "execution_count": 72,
   "metadata": {},
   "outputs": [],
   "source": [
    "# Helper functions for making and matching day_hour columns\n",
    "\n",
    "def shorten_day_name(day_string):\n",
    "    \"\"\"Shorten a day name to the first 4 letters (1Saturday => 1sat)\n",
    "    This requires a string passed in.\n",
    "    \"\"\"\n",
    "    return day_string[0:4].lower()\n",
    "\n",
    "def composite_val(day_name, hour):\n",
    "    \"\"\"Generate a composite string value that can be used for dictionary \n",
    "    keys or other uses.\n",
    "    For example, 1Saturday at 10am => 1sat_10\n",
    "    \"\"\"\n",
    "    padded_hour = str(hour).zfill(2)\n",
    "    return \"{}_{}\".format(shorten_day_name(day_name), padded_hour)"
   ]
  },
  {
   "cell_type": "markdown",
   "metadata": {},
   "source": [
    "## Calculate RPM\n",
    "The mill sensor measures rotations every 2 minutes. Calculate RPMs by dividing by 2"
   ]
  },
  {
   "cell_type": "code",
   "execution_count": 73,
   "metadata": {
    "scrolled": true
   },
   "outputs": [
    {
     "data": {
      "text/html": [
       "<div>\n",
       "<style scoped>\n",
       "    .dataframe tbody tr th:only-of-type {\n",
       "        vertical-align: middle;\n",
       "    }\n",
       "\n",
       "    .dataframe tbody tr th {\n",
       "        vertical-align: top;\n",
       "    }\n",
       "\n",
       "    .dataframe thead th {\n",
       "        text-align: right;\n",
       "    }\n",
       "</style>\n",
       "<table border=\"1\" class=\"dataframe\">\n",
       "  <thead>\n",
       "    <tr style=\"text-align: right;\">\n",
       "      <th></th>\n",
       "      <th>time_utc</th>\n",
       "      <th>2min_count</th>\n",
       "      <th>time_local</th>\n",
       "      <th>rpm</th>\n",
       "    </tr>\n",
       "  </thead>\n",
       "  <tbody>\n",
       "    <tr>\n",
       "      <th>44790</th>\n",
       "      <td>2018-11-08 18:13:34</td>\n",
       "      <td>0</td>\n",
       "      <td>2018-11-08 21:13:34+03:00</td>\n",
       "      <td>0</td>\n",
       "    </tr>\n",
       "    <tr>\n",
       "      <th>6259</th>\n",
       "      <td>2018-09-16 06:59:42</td>\n",
       "      <td>0</td>\n",
       "      <td>2018-09-16 09:59:42+03:00</td>\n",
       "      <td>0</td>\n",
       "    </tr>\n",
       "    <tr>\n",
       "      <th>41261</th>\n",
       "      <td>2018-11-03 20:35:34</td>\n",
       "      <td>0</td>\n",
       "      <td>2018-11-03 23:35:34+03:00</td>\n",
       "      <td>0</td>\n",
       "    </tr>\n",
       "    <tr>\n",
       "      <th>18641</th>\n",
       "      <td>2018-10-03 11:18:16</td>\n",
       "      <td>0</td>\n",
       "      <td>2018-10-03 14:18:16+03:00</td>\n",
       "      <td>0</td>\n",
       "    </tr>\n",
       "    <tr>\n",
       "      <th>32061</th>\n",
       "      <td>2018-10-22 02:09:26</td>\n",
       "      <td>0</td>\n",
       "      <td>2018-10-22 05:09:26+03:00</td>\n",
       "      <td>0</td>\n",
       "    </tr>\n",
       "    <tr>\n",
       "      <th>13004</th>\n",
       "      <td>2018-09-25 15:37:06</td>\n",
       "      <td>2043</td>\n",
       "      <td>2018-09-25 18:37:06+03:00</td>\n",
       "      <td>1022</td>\n",
       "    </tr>\n",
       "    <tr>\n",
       "      <th>28274</th>\n",
       "      <td>2018-10-16 20:09:44</td>\n",
       "      <td>0</td>\n",
       "      <td>2018-10-16 23:09:44+03:00</td>\n",
       "      <td>0</td>\n",
       "    </tr>\n",
       "    <tr>\n",
       "      <th>16453</th>\n",
       "      <td>2018-09-30 10:22:16</td>\n",
       "      <td>0</td>\n",
       "      <td>2018-09-30 13:22:16+03:00</td>\n",
       "      <td>0</td>\n",
       "    </tr>\n",
       "    <tr>\n",
       "      <th>18028</th>\n",
       "      <td>2018-10-02 14:52:16</td>\n",
       "      <td>1711</td>\n",
       "      <td>2018-10-02 17:52:16+03:00</td>\n",
       "      <td>856</td>\n",
       "    </tr>\n",
       "    <tr>\n",
       "      <th>9325</th>\n",
       "      <td>2018-09-20 13:05:17</td>\n",
       "      <td>0</td>\n",
       "      <td>2018-09-20 16:05:17+03:00</td>\n",
       "      <td>0</td>\n",
       "    </tr>\n",
       "  </tbody>\n",
       "</table>\n",
       "</div>"
      ],
      "text/plain": [
       "                 time_utc  2min_count                time_local   rpm\n",
       "44790 2018-11-08 18:13:34           0 2018-11-08 21:13:34+03:00     0\n",
       "6259  2018-09-16 06:59:42           0 2018-09-16 09:59:42+03:00     0\n",
       "41261 2018-11-03 20:35:34           0 2018-11-03 23:35:34+03:00     0\n",
       "18641 2018-10-03 11:18:16           0 2018-10-03 14:18:16+03:00     0\n",
       "32061 2018-10-22 02:09:26           0 2018-10-22 05:09:26+03:00     0\n",
       "13004 2018-09-25 15:37:06        2043 2018-09-25 18:37:06+03:00  1022\n",
       "28274 2018-10-16 20:09:44           0 2018-10-16 23:09:44+03:00     0\n",
       "16453 2018-09-30 10:22:16           0 2018-09-30 13:22:16+03:00     0\n",
       "18028 2018-10-02 14:52:16        1711 2018-10-02 17:52:16+03:00   856\n",
       "9325  2018-09-20 13:05:17           0 2018-09-20 16:05:17+03:00     0"
      ]
     },
     "execution_count": 73,
     "metadata": {},
     "output_type": "execute_result"
    }
   ],
   "source": [
    "def count_to_rpm(count):\n",
    "    return round(count / 2)\n",
    "\n",
    "df_measured_2min['rpm'] = df_measured_2min['2min_count'].apply(count_to_rpm)\n",
    "df_measured_2min.sample(10)"
   ]
  },
  {
   "cell_type": "markdown",
   "metadata": {},
   "source": [
    "## Explore Data"
   ]
  },
  {
   "cell_type": "code",
   "execution_count": 74,
   "metadata": {
    "scrolled": true
   },
   "outputs": [
    {
     "data": {
      "text/html": [
       "<div>\n",
       "<style scoped>\n",
       "    .dataframe tbody tr th:only-of-type {\n",
       "        vertical-align: middle;\n",
       "    }\n",
       "\n",
       "    .dataframe tbody tr th {\n",
       "        vertical-align: top;\n",
       "    }\n",
       "\n",
       "    .dataframe thead th {\n",
       "        text-align: right;\n",
       "    }\n",
       "</style>\n",
       "<table border=\"1\" class=\"dataframe\">\n",
       "  <thead>\n",
       "    <tr style=\"text-align: right;\">\n",
       "      <th></th>\n",
       "      <th>2min_count</th>\n",
       "      <th>rpm</th>\n",
       "    </tr>\n",
       "  </thead>\n",
       "  <tbody>\n",
       "    <tr>\n",
       "      <th>count</th>\n",
       "      <td>45926.000000</td>\n",
       "      <td>45926.000000</td>\n",
       "    </tr>\n",
       "    <tr>\n",
       "      <th>mean</th>\n",
       "      <td>130.776793</td>\n",
       "      <td>65.387841</td>\n",
       "    </tr>\n",
       "    <tr>\n",
       "      <th>std</th>\n",
       "      <td>487.376202</td>\n",
       "      <td>243.687506</td>\n",
       "    </tr>\n",
       "    <tr>\n",
       "      <th>min</th>\n",
       "      <td>0.000000</td>\n",
       "      <td>0.000000</td>\n",
       "    </tr>\n",
       "    <tr>\n",
       "      <th>25%</th>\n",
       "      <td>0.000000</td>\n",
       "      <td>0.000000</td>\n",
       "    </tr>\n",
       "    <tr>\n",
       "      <th>50%</th>\n",
       "      <td>0.000000</td>\n",
       "      <td>0.000000</td>\n",
       "    </tr>\n",
       "    <tr>\n",
       "      <th>75%</th>\n",
       "      <td>0.000000</td>\n",
       "      <td>0.000000</td>\n",
       "    </tr>\n",
       "    <tr>\n",
       "      <th>max</th>\n",
       "      <td>2319.000000</td>\n",
       "      <td>1160.000000</td>\n",
       "    </tr>\n",
       "  </tbody>\n",
       "</table>\n",
       "</div>"
      ],
      "text/plain": [
       "         2min_count           rpm\n",
       "count  45926.000000  45926.000000\n",
       "mean     130.776793     65.387841\n",
       "std      487.376202    243.687506\n",
       "min        0.000000      0.000000\n",
       "25%        0.000000      0.000000\n",
       "50%        0.000000      0.000000\n",
       "75%        0.000000      0.000000\n",
       "max     2319.000000   1160.000000"
      ]
     },
     "execution_count": 74,
     "metadata": {},
     "output_type": "execute_result"
    }
   ],
   "source": [
    "# The data is skewed because most of it is zeros:\n",
    "df_measured_2min.describe()"
   ]
  },
  {
   "cell_type": "code",
   "execution_count": 75,
   "metadata": {
    "scrolled": false
   },
   "outputs": [
    {
     "data": {
      "text/html": [
       "<div>\n",
       "<style scoped>\n",
       "    .dataframe tbody tr th:only-of-type {\n",
       "        vertical-align: middle;\n",
       "    }\n",
       "\n",
       "    .dataframe tbody tr th {\n",
       "        vertical-align: top;\n",
       "    }\n",
       "\n",
       "    .dataframe thead th {\n",
       "        text-align: right;\n",
       "    }\n",
       "</style>\n",
       "<table border=\"1\" class=\"dataframe\">\n",
       "  <thead>\n",
       "    <tr style=\"text-align: right;\">\n",
       "      <th></th>\n",
       "      <th>time_utc</th>\n",
       "      <th>2min_count</th>\n",
       "      <th>time_local</th>\n",
       "      <th>rpm</th>\n",
       "    </tr>\n",
       "  </thead>\n",
       "  <tbody>\n",
       "    <tr>\n",
       "      <th>33865</th>\n",
       "      <td>2018-10-24 14:17:26</td>\n",
       "      <td>2196</td>\n",
       "      <td>2018-10-24 17:17:26+03:00</td>\n",
       "      <td>1098</td>\n",
       "    </tr>\n",
       "    <tr>\n",
       "      <th>1351</th>\n",
       "      <td>2018-09-09 11:32:33</td>\n",
       "      <td>2108</td>\n",
       "      <td>2018-09-09 14:32:33+03:00</td>\n",
       "      <td>1054</td>\n",
       "    </tr>\n",
       "    <tr>\n",
       "      <th>34303</th>\n",
       "      <td>2018-10-25 04:53:26</td>\n",
       "      <td>2216</td>\n",
       "      <td>2018-10-25 07:53:26+03:00</td>\n",
       "      <td>1108</td>\n",
       "    </tr>\n",
       "    <tr>\n",
       "      <th>35178</th>\n",
       "      <td>2018-10-26 10:03:26</td>\n",
       "      <td>2182</td>\n",
       "      <td>2018-10-26 13:03:26+03:00</td>\n",
       "      <td>1091</td>\n",
       "    </tr>\n",
       "    <tr>\n",
       "      <th>14379</th>\n",
       "      <td>2018-09-27 13:27:06</td>\n",
       "      <td>846</td>\n",
       "      <td>2018-09-27 16:27:06+03:00</td>\n",
       "      <td>423</td>\n",
       "    </tr>\n",
       "    <tr>\n",
       "      <th>2744</th>\n",
       "      <td>2018-09-11 09:58:33</td>\n",
       "      <td>621</td>\n",
       "      <td>2018-09-11 12:58:33+03:00</td>\n",
       "      <td>310</td>\n",
       "    </tr>\n",
       "    <tr>\n",
       "      <th>43259</th>\n",
       "      <td>2018-11-06 15:11:34</td>\n",
       "      <td>315</td>\n",
       "      <td>2018-11-06 18:11:34+03:00</td>\n",
       "      <td>158</td>\n",
       "    </tr>\n",
       "    <tr>\n",
       "      <th>30238</th>\n",
       "      <td>2018-10-19 13:37:44</td>\n",
       "      <td>2177</td>\n",
       "      <td>2018-10-19 16:37:44+03:00</td>\n",
       "      <td>1088</td>\n",
       "    </tr>\n",
       "    <tr>\n",
       "      <th>28067</th>\n",
       "      <td>2018-10-16 13:15:44</td>\n",
       "      <td>2198</td>\n",
       "      <td>2018-10-16 16:15:44+03:00</td>\n",
       "      <td>1099</td>\n",
       "    </tr>\n",
       "    <tr>\n",
       "      <th>18735</th>\n",
       "      <td>2018-10-03 14:26:16</td>\n",
       "      <td>2004</td>\n",
       "      <td>2018-10-03 17:26:16+03:00</td>\n",
       "      <td>1002</td>\n",
       "    </tr>\n",
       "  </tbody>\n",
       "</table>\n",
       "</div>"
      ],
      "text/plain": [
       "                 time_utc  2min_count                time_local   rpm\n",
       "33865 2018-10-24 14:17:26        2196 2018-10-24 17:17:26+03:00  1098\n",
       "1351  2018-09-09 11:32:33        2108 2018-09-09 14:32:33+03:00  1054\n",
       "34303 2018-10-25 04:53:26        2216 2018-10-25 07:53:26+03:00  1108\n",
       "35178 2018-10-26 10:03:26        2182 2018-10-26 13:03:26+03:00  1091\n",
       "14379 2018-09-27 13:27:06         846 2018-09-27 16:27:06+03:00   423\n",
       "2744  2018-09-11 09:58:33         621 2018-09-11 12:58:33+03:00   310\n",
       "43259 2018-11-06 15:11:34         315 2018-11-06 18:11:34+03:00   158\n",
       "30238 2018-10-19 13:37:44        2177 2018-10-19 16:37:44+03:00  1088\n",
       "28067 2018-10-16 13:15:44        2198 2018-10-16 16:15:44+03:00  1099\n",
       "18735 2018-10-03 14:26:16        2004 2018-10-03 17:26:16+03:00  1002"
      ]
     },
     "execution_count": 75,
     "metadata": {},
     "output_type": "execute_result"
    }
   ],
   "source": [
    "# Filter out all zeros and very low RPMs and look at it again:\n",
    "# df_measured_nozeros = df_measured_2min[df_measured_2min['rpm'] > -100]  # temp: effectively doesn't filter\n",
    "df_measured_nozeros = df_measured_2min[df_measured_2min['rpm'] > 100]\n",
    "df_measured_nozeros.sample(10)"
   ]
  },
  {
   "cell_type": "code",
   "execution_count": 76,
   "metadata": {},
   "outputs": [],
   "source": [
    "# pivot_ui(df_measured_nozeros, \n",
    "#          rows=['2min_count'],\n",
    "#          rendererName=\"Table\",\n",
    "#          aggregatorName=\"Count\")"
   ]
  },
  {
   "cell_type": "code",
   "execution_count": 77,
   "metadata": {},
   "outputs": [
    {
     "data": {
      "text/plain": [
       "<matplotlib.axes._subplots.AxesSubplot at 0x1a1a28fc88>"
      ]
     },
     "execution_count": 77,
     "metadata": {},
     "output_type": "execute_result"
    },
    {
     "data": {
      "image/png": "[encoded data removed]",
      "text/plain": [
       "<matplotlib.figure.Figure at 0x1a19809470>"
      ]
     },
     "metadata": {},
     "output_type": "display_data"
    }
   ],
   "source": [
    "# Plot histogram of rpm including zeros\n",
    "df_measured_2min.plot.hist(y='rpm', figsize=(20, 4))"
   ]
  },
  {
   "cell_type": "code",
   "execution_count": 78,
   "metadata": {},
   "outputs": [
    {
     "data": {
      "text/plain": [
       "<matplotlib.axes._subplots.AxesSubplot at 0x10e2636d8>"
      ]
     },
     "execution_count": 78,
     "metadata": {},
     "output_type": "execute_result"
    },
    {
     "data": {
      "image/png": "[encoded data removed]",
      "text/plain": [
       "<matplotlib.figure.Figure at 0x10840c0b8>"
      ]
     },
     "metadata": {},
     "output_type": "display_data"
    }
   ],
   "source": [
    "# Plot histogram of rpm excluding zeros and low RPMs\n",
    "df_measured_nozeros.plot.hist(y='rpm', figsize=(20, 4))"
   ]
  },
  {
   "cell_type": "code",
   "execution_count": 79,
   "metadata": {},
   "outputs": [
    {
     "data": {
      "text/plain": [
       "1090"
      ]
     },
     "execution_count": 79,
     "metadata": {},
     "output_type": "execute_result"
    }
   ],
   "source": [
    "# Most common value (mode):\n",
    "df_measured_nozeros['rpm'].value_counts().idxmax()"
   ]
  },
  {
   "cell_type": "code",
   "execution_count": 80,
   "metadata": {},
   "outputs": [],
   "source": [
    "# Add day, hour_of_day, day_hour to 2 minute intervals to see the variation in RPMs with different time intervals\n",
    "# First set index of dataframe to time_local\n",
    "df_measured_nozeros = df_measured_nozeros.set_index('time_local')"
   ]
  },
  {
   "cell_type": "code",
   "execution_count": 81,
   "metadata": {},
   "outputs": [
    {
     "data": {
      "text/html": [
       "<div>\n",
       "<style scoped>\n",
       "    .dataframe tbody tr th:only-of-type {\n",
       "        vertical-align: middle;\n",
       "    }\n",
       "\n",
       "    .dataframe tbody tr th {\n",
       "        vertical-align: top;\n",
       "    }\n",
       "\n",
       "    .dataframe thead th {\n",
       "        text-align: right;\n",
       "    }\n",
       "</style>\n",
       "<table border=\"1\" class=\"dataframe\">\n",
       "  <thead>\n",
       "    <tr style=\"text-align: right;\">\n",
       "      <th></th>\n",
       "      <th>time_utc</th>\n",
       "      <th>2min_count</th>\n",
       "      <th>rpm</th>\n",
       "      <th>day</th>\n",
       "      <th>hour_of_day</th>\n",
       "      <th>day_hour</th>\n",
       "      <th>week</th>\n",
       "      <th>rpm_binned</th>\n",
       "    </tr>\n",
       "    <tr>\n",
       "      <th>time_local</th>\n",
       "      <th></th>\n",
       "      <th></th>\n",
       "      <th></th>\n",
       "      <th></th>\n",
       "      <th></th>\n",
       "      <th></th>\n",
       "      <th></th>\n",
       "      <th></th>\n",
       "    </tr>\n",
       "  </thead>\n",
       "  <tbody>\n",
       "    <tr>\n",
       "      <th>2018-10-28 18:43:26+03:00</th>\n",
       "      <td>2018-10-28 15:43:26</td>\n",
       "      <td>936</td>\n",
       "      <td>468</td>\n",
       "      <td>6sun</td>\n",
       "      <td>18</td>\n",
       "      <td>6sun_18</td>\n",
       "      <td>43</td>\n",
       "      <td>(313.0, 525.0]</td>\n",
       "    </tr>\n",
       "    <tr>\n",
       "      <th>2018-09-17 16:59:42+03:00</th>\n",
       "      <td>2018-09-17 13:59:42</td>\n",
       "      <td>952</td>\n",
       "      <td>476</td>\n",
       "      <td>0mon</td>\n",
       "      <td>16</td>\n",
       "      <td>0mon_16</td>\n",
       "      <td>38</td>\n",
       "      <td>(313.0, 525.0]</td>\n",
       "    </tr>\n",
       "    <tr>\n",
       "      <th>2018-10-18 18:29:44+03:00</th>\n",
       "      <td>2018-10-18 15:29:44</td>\n",
       "      <td>1228</td>\n",
       "      <td>614</td>\n",
       "      <td>3thu</td>\n",
       "      <td>18</td>\n",
       "      <td>3thu_18</td>\n",
       "      <td>42</td>\n",
       "      <td>(525.0, 736.0]</td>\n",
       "    </tr>\n",
       "    <tr>\n",
       "      <th>2018-09-25 17:01:06+03:00</th>\n",
       "      <td>2018-09-25 14:01:06</td>\n",
       "      <td>1987</td>\n",
       "      <td>994</td>\n",
       "      <td>1tue</td>\n",
       "      <td>17</td>\n",
       "      <td>1tue_17</td>\n",
       "      <td>39</td>\n",
       "      <td>(948.0, 1160.0]</td>\n",
       "    </tr>\n",
       "    <tr>\n",
       "      <th>2018-09-19 17:21:17+03:00</th>\n",
       "      <td>2018-09-19 14:21:17</td>\n",
       "      <td>2094</td>\n",
       "      <td>1047</td>\n",
       "      <td>2wed</td>\n",
       "      <td>17</td>\n",
       "      <td>2wed_17</td>\n",
       "      <td>38</td>\n",
       "      <td>(948.0, 1160.0]</td>\n",
       "    </tr>\n",
       "    <tr>\n",
       "      <th>2018-10-07 16:40:16+03:00</th>\n",
       "      <td>2018-10-07 13:40:16</td>\n",
       "      <td>2178</td>\n",
       "      <td>1089</td>\n",
       "      <td>6sun</td>\n",
       "      <td>16</td>\n",
       "      <td>6sun_16</td>\n",
       "      <td>40</td>\n",
       "      <td>(948.0, 1160.0]</td>\n",
       "    </tr>\n",
       "    <tr>\n",
       "      <th>2018-11-05 17:37:34+03:00</th>\n",
       "      <td>2018-11-05 14:37:34</td>\n",
       "      <td>509</td>\n",
       "      <td>254</td>\n",
       "      <td>0mon</td>\n",
       "      <td>17</td>\n",
       "      <td>0mon_17</td>\n",
       "      <td>45</td>\n",
       "      <td>(100.0, 313.0]</td>\n",
       "    </tr>\n",
       "    <tr>\n",
       "      <th>2018-09-22 17:05:17+03:00</th>\n",
       "      <td>2018-09-22 14:05:17</td>\n",
       "      <td>1971</td>\n",
       "      <td>986</td>\n",
       "      <td>5sat</td>\n",
       "      <td>17</td>\n",
       "      <td>5sat_17</td>\n",
       "      <td>38</td>\n",
       "      <td>(948.0, 1160.0]</td>\n",
       "    </tr>\n",
       "    <tr>\n",
       "      <th>2018-10-10 14:19:44+03:00</th>\n",
       "      <td>2018-10-10 11:19:44</td>\n",
       "      <td>2171</td>\n",
       "      <td>1086</td>\n",
       "      <td>2wed</td>\n",
       "      <td>14</td>\n",
       "      <td>2wed_14</td>\n",
       "      <td>41</td>\n",
       "      <td>(948.0, 1160.0]</td>\n",
       "    </tr>\n",
       "    <tr>\n",
       "      <th>2018-11-01 16:19:34+03:00</th>\n",
       "      <td>2018-11-01 13:19:34</td>\n",
       "      <td>202</td>\n",
       "      <td>101</td>\n",
       "      <td>3thu</td>\n",
       "      <td>16</td>\n",
       "      <td>3thu_16</td>\n",
       "      <td>44</td>\n",
       "      <td>(100.0, 313.0]</td>\n",
       "    </tr>\n",
       "  </tbody>\n",
       "</table>\n",
       "</div>"
      ],
      "text/plain": [
       "                                     time_utc  2min_count   rpm   day  \\\n",
       "time_local                                                              \n",
       "2018-10-28 18:43:26+03:00 2018-10-28 15:43:26         936   468  6sun   \n",
       "2018-09-17 16:59:42+03:00 2018-09-17 13:59:42         952   476  0mon   \n",
       "2018-10-18 18:29:44+03:00 2018-10-18 15:29:44        1228   614  3thu   \n",
       "2018-09-25 17:01:06+03:00 2018-09-25 14:01:06        1987   994  1tue   \n",
       "2018-09-19 17:21:17+03:00 2018-09-19 14:21:17        2094  1047  2wed   \n",
       "2018-10-07 16:40:16+03:00 2018-10-07 13:40:16        2178  1089  6sun   \n",
       "2018-11-05 17:37:34+03:00 2018-11-05 14:37:34         509   254  0mon   \n",
       "2018-09-22 17:05:17+03:00 2018-09-22 14:05:17        1971   986  5sat   \n",
       "2018-10-10 14:19:44+03:00 2018-10-10 11:19:44        2171  1086  2wed   \n",
       "2018-11-01 16:19:34+03:00 2018-11-01 13:19:34         202   101  3thu   \n",
       "\n",
       "                           hour_of_day day_hour  week       rpm_binned  \n",
       "time_local                                                              \n",
       "2018-10-28 18:43:26+03:00           18  6sun_18    43   (313.0, 525.0]  \n",
       "2018-09-17 16:59:42+03:00           16  0mon_16    38   (313.0, 525.0]  \n",
       "2018-10-18 18:29:44+03:00           18  3thu_18    42   (525.0, 736.0]  \n",
       "2018-09-25 17:01:06+03:00           17  1tue_17    39  (948.0, 1160.0]  \n",
       "2018-09-19 17:21:17+03:00           17  2wed_17    38  (948.0, 1160.0]  \n",
       "2018-10-07 16:40:16+03:00           16  6sun_16    40  (948.0, 1160.0]  \n",
       "2018-11-05 17:37:34+03:00           17  0mon_17    45   (100.0, 313.0]  \n",
       "2018-09-22 17:05:17+03:00           17  5sat_17    38  (948.0, 1160.0]  \n",
       "2018-10-10 14:19:44+03:00           14  2wed_14    41  (948.0, 1160.0]  \n",
       "2018-11-01 16:19:34+03:00           16  3thu_16    44   (100.0, 313.0]  "
      ]
     },
     "execution_count": 81,
     "metadata": {},
     "output_type": "execute_result"
    }
   ],
   "source": [
    "df_measured_nozeros['day'] = df_measured_nozeros.index.dayofweek.map(str) + df_measured_nozeros.index.day_name()\n",
    "df_measured_nozeros['day'] = df_measured_nozeros[\"day\"].apply(shorten_day_name)\n",
    "df_measured_nozeros['hour_of_day'] = df_measured_nozeros.index.hour\n",
    "df_measured_nozeros['day_hour'] = df_measured_nozeros.apply(lambda row: composite_val(row['day'], row['hour_of_day']), axis=1)\n",
    "df_measured_nozeros['week'] = df_measured_nozeros.index.week\n",
    "df_measured_nozeros['rpm_binned'] = pd.cut(df_measured_nozeros['rpm'], 5, precision=0, )\n",
    "df_measured_nozeros.sample(10)"
   ]
  },
  {
   "cell_type": "code",
   "execution_count": 82,
   "metadata": {
    "scrolled": false
   },
   "outputs": [
    {
     "data": {
      "text/html": [
       "\n",
       "        <iframe\n",
       "            width=\"100%\"\n",
       "            height=\"500\"\n",
       "            src=\"pivottablejs.html\"\n",
       "            frameborder=\"0\"\n",
       "            allowfullscreen\n",
       "        ></iframe>\n",
       "        "
      ],
      "text/plain": [
       "<IPython.lib.display.IFrame at 0x10e22d470>"
      ]
     },
     "execution_count": 82,
     "metadata": {},
     "output_type": "execute_result"
    }
   ],
   "source": [
    "pivot_ui(df_measured_nozeros, \n",
    "         rows=['rpm_binned'],\n",
    "         cols=['hour_of_day'],\n",
    "         rendererName=\"Bar Chart\",\n",
    "         aggregatorName=\"Count\")"
   ]
  },
  {
   "cell_type": "code",
   "execution_count": 83,
   "metadata": {},
   "outputs": [
    {
     "data": {
      "text/html": [
       "\n",
       "        <iframe\n",
       "            width=\"100%\"\n",
       "            height=\"500\"\n",
       "            src=\"pivottablejs.html\"\n",
       "            frameborder=\"0\"\n",
       "            allowfullscreen\n",
       "        ></iframe>\n",
       "        "
      ],
      "text/plain": [
       "<IPython.lib.display.IFrame at 0x10840c518>"
      ]
     },
     "execution_count": 83,
     "metadata": {},
     "output_type": "execute_result"
    }
   ],
   "source": [
    "pivot_ui(df_measured_nozeros, \n",
    "         rows=['rpm_binned'],\n",
    "         cols=['day'],\n",
    "         rendererName=\"Bar Chart\",\n",
    "         aggregatorName=\"Count\")"
   ]
  },
  {
   "cell_type": "markdown",
   "metadata": {},
   "source": [
    "#### Thoughts\n",
    "* We're seeing the RPM average and mode as ~1000. We think the max RPM is 2200. We are measuring rotations every 2 minutes but 2 minutes is fairly long. Is it possible these mills cycle on and off (or low rpms) within those 2 minutes? For example, they could run at max for 30 seconds, spin down to low RPMs for 30, then spin back up to max continuously? \n",
    "    1. The data could support that type of cycling if that behavior was programmed into the mill\n",
    "    2. The data is too consistent to support people manually cycling these mills. I would expect more variance in the distributions of RPMs."
   ]
  },
  {
   "cell_type": "markdown",
   "metadata": {},
   "source": [
    "## Approach to convert RPM to unitless usage counts\n",
    "RPMs relate to 3 quantities that we care about:\n",
    "* kW\n",
    "* kWh\n",
    "* Grain throughput\n",
    "\n",
    "These quantities are directly related to costs and revenue for the appliance owner and grid operator. We have measured revolution count in 2-minute intervals. The average RPM is half the number of mill revolutions.\n",
    "\n",
    "However, if we want to work with hourly intervals, then we can't add up RPMs to get the total RPMs within an hour. We have a few options:\n",
    "1. Average the RPMs across the hour. If the mill runs for 30 minutes at 1200 RPMs, then the average would be 600 RPMs. Grain throughput and kW likely have a non-linear relationship to RPMs, so this would really distort the results.\n",
    "2. Assign a unitless usage factor to each minute interval. If the mill is running at full production (throughput and kW), then we can assign it a value of 1 (2 for a 2-minute interval). We can scale the factor down as the RPMs go down. \n",
    "\n",
    "The second approach is what I will use.\n",
    "\n",
    "### Throughput vs. kW\n",
    "To calculate kW (and therefore kWh) and throughput, we need to know how RPM relates to these two factors. There is no reason to assume the kW and grain throughput vs RPM scale the same. So let's create two functions that calculate kW and grain throughput independently.\n",
    "\n",
    "For now, these factors will be the same. But the functions can be easily modified as we get more information without refactoring code downstream."
   ]
  },
  {
   "cell_type": "markdown",
   "metadata": {},
   "source": [
    "## RPM to unitless utilization factors\n",
    "This mill is likely rated at 16.2kW @ 2200 RPM. Let's assume some function that relates it's utilization given an RPM."
   ]
  },
  {
   "cell_type": "code",
   "execution_count": 84,
   "metadata": {},
   "outputs": [
    {
     "data": {
      "text/plain": [
       "1.00991"
      ]
     },
     "execution_count": 84,
     "metadata": {},
     "output_type": "execute_result"
    }
   ],
   "source": [
    "# Until we can get ahold of performance curves for rpm vs kW and rpm vs throughput,\n",
    "# let's take an educated guess at how they relate.\n",
    "# We may want to filter very low RPMs out. A slow motor still uses power and mills grain, \n",
    "# so I don't know what the cutoff would be.\n",
    "\n",
    "# This is the function from Amanda's spreadsheet. \n",
    "def rpm_to_kw_utilization(rpm, full_capacity=1110):\n",
    "    \"\"\"\n",
    "    Convert RPM to a kW utilization factor. \n",
    "    \"\"\"\n",
    "    return round(rpm / full_capacity, 5)\n",
    "\n",
    "rpm_to_kw_utilization(1121)"
   ]
  },
  {
   "cell_type": "code",
   "execution_count": 85,
   "metadata": {},
   "outputs": [
    {
     "data": {
      "text/plain": [
       "1.00991"
      ]
     },
     "execution_count": 85,
     "metadata": {},
     "output_type": "execute_result"
    }
   ],
   "source": [
    "# Until we have better data, assume the utilization factors are the \n",
    "# same between kW and grain\n",
    "def rpm_to_grain_utilization(rpm, full_capacity=1110):\n",
    "    \"\"\"\n",
    "    Convert RPM to a grain milled utilization factor\n",
    "    \"\"\"\n",
    "    return round(rpm / full_capacity, 5)\n",
    "\n",
    "rpm_to_grain_utilization(1121)"
   ]
  },
  {
   "cell_type": "code",
   "execution_count": 86,
   "metadata": {},
   "outputs": [
    {
     "data": {
      "text/html": [
       "<div>\n",
       "<style scoped>\n",
       "    .dataframe tbody tr th:only-of-type {\n",
       "        vertical-align: middle;\n",
       "    }\n",
       "\n",
       "    .dataframe tbody tr th {\n",
       "        vertical-align: top;\n",
       "    }\n",
       "\n",
       "    .dataframe thead th {\n",
       "        text-align: right;\n",
       "    }\n",
       "</style>\n",
       "<table border=\"1\" class=\"dataframe\">\n",
       "  <thead>\n",
       "    <tr style=\"text-align: right;\">\n",
       "      <th></th>\n",
       "      <th>time_utc</th>\n",
       "      <th>2min_count</th>\n",
       "      <th>time_local</th>\n",
       "      <th>rpm</th>\n",
       "      <th>kw_factor</th>\n",
       "      <th>production_factor</th>\n",
       "    </tr>\n",
       "  </thead>\n",
       "  <tbody>\n",
       "    <tr>\n",
       "      <th>30279</th>\n",
       "      <td>2018-10-19 14:59:44</td>\n",
       "      <td>0</td>\n",
       "      <td>2018-10-19 17:59:44+03:00</td>\n",
       "      <td>0</td>\n",
       "      <td>0.00000</td>\n",
       "      <td>0.00000</td>\n",
       "    </tr>\n",
       "    <tr>\n",
       "      <th>30280</th>\n",
       "      <td>2018-10-19 15:01:44</td>\n",
       "      <td>0</td>\n",
       "      <td>2018-10-19 18:01:44+03:00</td>\n",
       "      <td>0</td>\n",
       "      <td>0.00000</td>\n",
       "      <td>0.00000</td>\n",
       "    </tr>\n",
       "    <tr>\n",
       "      <th>30281</th>\n",
       "      <td>2018-10-19 15:03:44</td>\n",
       "      <td>0</td>\n",
       "      <td>2018-10-19 18:03:44+03:00</td>\n",
       "      <td>0</td>\n",
       "      <td>0.00000</td>\n",
       "      <td>0.00000</td>\n",
       "    </tr>\n",
       "    <tr>\n",
       "      <th>30282</th>\n",
       "      <td>2018-10-19 15:05:44</td>\n",
       "      <td>0</td>\n",
       "      <td>2018-10-19 18:05:44+03:00</td>\n",
       "      <td>0</td>\n",
       "      <td>0.00000</td>\n",
       "      <td>0.00000</td>\n",
       "    </tr>\n",
       "    <tr>\n",
       "      <th>30283</th>\n",
       "      <td>2018-10-19 15:07:44</td>\n",
       "      <td>324</td>\n",
       "      <td>2018-10-19 18:07:44+03:00</td>\n",
       "      <td>162</td>\n",
       "      <td>0.29190</td>\n",
       "      <td>0.29190</td>\n",
       "    </tr>\n",
       "    <tr>\n",
       "      <th>30284</th>\n",
       "      <td>2018-10-19 15:09:44</td>\n",
       "      <td>2150</td>\n",
       "      <td>2018-10-19 18:09:44+03:00</td>\n",
       "      <td>1075</td>\n",
       "      <td>1.93694</td>\n",
       "      <td>1.93694</td>\n",
       "    </tr>\n",
       "    <tr>\n",
       "      <th>30285</th>\n",
       "      <td>2018-10-19 15:11:44</td>\n",
       "      <td>2156</td>\n",
       "      <td>2018-10-19 18:11:44+03:00</td>\n",
       "      <td>1078</td>\n",
       "      <td>1.94234</td>\n",
       "      <td>1.94234</td>\n",
       "    </tr>\n",
       "    <tr>\n",
       "      <th>30286</th>\n",
       "      <td>2018-10-19 15:13:44</td>\n",
       "      <td>2143</td>\n",
       "      <td>2018-10-19 18:13:44+03:00</td>\n",
       "      <td>1072</td>\n",
       "      <td>1.93154</td>\n",
       "      <td>1.93154</td>\n",
       "    </tr>\n",
       "    <tr>\n",
       "      <th>30287</th>\n",
       "      <td>2018-10-19 15:15:44</td>\n",
       "      <td>2150</td>\n",
       "      <td>2018-10-19 18:15:44+03:00</td>\n",
       "      <td>1075</td>\n",
       "      <td>1.93694</td>\n",
       "      <td>1.93694</td>\n",
       "    </tr>\n",
       "    <tr>\n",
       "      <th>30288</th>\n",
       "      <td>2018-10-19 15:17:44</td>\n",
       "      <td>2165</td>\n",
       "      <td>2018-10-19 18:17:44+03:00</td>\n",
       "      <td>1082</td>\n",
       "      <td>1.94954</td>\n",
       "      <td>1.94954</td>\n",
       "    </tr>\n",
       "    <tr>\n",
       "      <th>30289</th>\n",
       "      <td>2018-10-19 15:19:44</td>\n",
       "      <td>2152</td>\n",
       "      <td>2018-10-19 18:19:44+03:00</td>\n",
       "      <td>1076</td>\n",
       "      <td>1.93874</td>\n",
       "      <td>1.93874</td>\n",
       "    </tr>\n",
       "  </tbody>\n",
       "</table>\n",
       "</div>"
      ],
      "text/plain": [
       "                 time_utc  2min_count                time_local   rpm  \\\n",
       "30279 2018-10-19 14:59:44           0 2018-10-19 17:59:44+03:00     0   \n",
       "30280 2018-10-19 15:01:44           0 2018-10-19 18:01:44+03:00     0   \n",
       "30281 2018-10-19 15:03:44           0 2018-10-19 18:03:44+03:00     0   \n",
       "30282 2018-10-19 15:05:44           0 2018-10-19 18:05:44+03:00     0   \n",
       "30283 2018-10-19 15:07:44         324 2018-10-19 18:07:44+03:00   162   \n",
       "30284 2018-10-19 15:09:44        2150 2018-10-19 18:09:44+03:00  1075   \n",
       "30285 2018-10-19 15:11:44        2156 2018-10-19 18:11:44+03:00  1078   \n",
       "30286 2018-10-19 15:13:44        2143 2018-10-19 18:13:44+03:00  1072   \n",
       "30287 2018-10-19 15:15:44        2150 2018-10-19 18:15:44+03:00  1075   \n",
       "30288 2018-10-19 15:17:44        2165 2018-10-19 18:17:44+03:00  1082   \n",
       "30289 2018-10-19 15:19:44        2152 2018-10-19 18:19:44+03:00  1076   \n",
       "\n",
       "       kw_factor  production_factor  \n",
       "30279    0.00000            0.00000  \n",
       "30280    0.00000            0.00000  \n",
       "30281    0.00000            0.00000  \n",
       "30282    0.00000            0.00000  \n",
       "30283    0.29190            0.29190  \n",
       "30284    1.93694            1.93694  \n",
       "30285    1.94234            1.94234  \n",
       "30286    1.93154            1.93154  \n",
       "30287    1.93694            1.93694  \n",
       "30288    1.94954            1.94954  \n",
       "30289    1.93874            1.93874  "
      ]
     },
     "execution_count": 86,
     "metadata": {},
     "output_type": "execute_result"
    }
   ],
   "source": [
    "# The utilization factors relate RPMs to kW (or throughput) for *one minute*.\n",
    "# We are working with 2 minute intervals, so we need to account for both\n",
    "# minutes of usage by multiplying the factor by 2.\n",
    "df_measured_2min['kw_factor'] = df_measured_2min['rpm'] \\\n",
    "                                        .apply(rpm_to_kw_utilization) \\\n",
    "                                        .apply(lambda factor: 2 * factor)\n",
    "df_measured_2min['production_factor'] = df_measured_2min['rpm'] \\\n",
    "                                        .apply(rpm_to_grain_utilization) \\\n",
    "                                        .apply(lambda factor: 2 * factor)\n",
    "df_measured_2min[30279:30290]"
   ]
  },
  {
   "cell_type": "markdown",
   "metadata": {},
   "source": [
    "## Resample 2 minute to hourly intervals"
   ]
  },
  {
   "cell_type": "code",
   "execution_count": 87,
   "metadata": {},
   "outputs": [
    {
     "data": {
      "text/html": [
       "<div>\n",
       "<style scoped>\n",
       "    .dataframe tbody tr th:only-of-type {\n",
       "        vertical-align: middle;\n",
       "    }\n",
       "\n",
       "    .dataframe tbody tr th {\n",
       "        vertical-align: top;\n",
       "    }\n",
       "\n",
       "    .dataframe thead th {\n",
       "        text-align: right;\n",
       "    }\n",
       "</style>\n",
       "<table border=\"1\" class=\"dataframe\">\n",
       "  <thead>\n",
       "    <tr style=\"text-align: right;\">\n",
       "      <th></th>\n",
       "      <th>time_utc</th>\n",
       "      <th>2min_count</th>\n",
       "      <th>rpm</th>\n",
       "      <th>kw_factor</th>\n",
       "      <th>production_factor</th>\n",
       "    </tr>\n",
       "    <tr>\n",
       "      <th>time_local</th>\n",
       "      <th></th>\n",
       "      <th></th>\n",
       "      <th></th>\n",
       "      <th></th>\n",
       "      <th></th>\n",
       "    </tr>\n",
       "  </thead>\n",
       "  <tbody>\n",
       "    <tr>\n",
       "      <th>2018-10-19 17:59:44+03:00</th>\n",
       "      <td>2018-10-19 14:59:44</td>\n",
       "      <td>0</td>\n",
       "      <td>0</td>\n",
       "      <td>0.0</td>\n",
       "      <td>0.0</td>\n",
       "    </tr>\n",
       "    <tr>\n",
       "      <th>2018-10-19 18:01:44+03:00</th>\n",
       "      <td>2018-10-19 15:01:44</td>\n",
       "      <td>0</td>\n",
       "      <td>0</td>\n",
       "      <td>0.0</td>\n",
       "      <td>0.0</td>\n",
       "    </tr>\n",
       "    <tr>\n",
       "      <th>2018-10-19 18:03:44+03:00</th>\n",
       "      <td>2018-10-19 15:03:44</td>\n",
       "      <td>0</td>\n",
       "      <td>0</td>\n",
       "      <td>0.0</td>\n",
       "      <td>0.0</td>\n",
       "    </tr>\n",
       "    <tr>\n",
       "      <th>2018-10-19 18:05:44+03:00</th>\n",
       "      <td>2018-10-19 15:05:44</td>\n",
       "      <td>0</td>\n",
       "      <td>0</td>\n",
       "      <td>0.0</td>\n",
       "      <td>0.0</td>\n",
       "    </tr>\n",
       "  </tbody>\n",
       "</table>\n",
       "</div>"
      ],
      "text/plain": [
       "                                     time_utc  2min_count  rpm  kw_factor  \\\n",
       "time_local                                                                  \n",
       "2018-10-19 17:59:44+03:00 2018-10-19 14:59:44           0    0        0.0   \n",
       "2018-10-19 18:01:44+03:00 2018-10-19 15:01:44           0    0        0.0   \n",
       "2018-10-19 18:03:44+03:00 2018-10-19 15:03:44           0    0        0.0   \n",
       "2018-10-19 18:05:44+03:00 2018-10-19 15:05:44           0    0        0.0   \n",
       "\n",
       "                           production_factor  \n",
       "time_local                                    \n",
       "2018-10-19 17:59:44+03:00                0.0  \n",
       "2018-10-19 18:01:44+03:00                0.0  \n",
       "2018-10-19 18:03:44+03:00                0.0  \n",
       "2018-10-19 18:05:44+03:00                0.0  "
      ]
     },
     "execution_count": 87,
     "metadata": {},
     "output_type": "execute_result"
    }
   ],
   "source": [
    "# First we need to set the dataframe index to be the time_local datetime\n",
    "df_measured_2min_index = df_measured_2min.set_index('time_local')\n",
    "df_measured_2min_index[30279:30283]"
   ]
  },
  {
   "cell_type": "code",
   "execution_count": 88,
   "metadata": {},
   "outputs": [
    {
     "data": {
      "text/plain": [
       "(45926, 5)"
      ]
     },
     "execution_count": 88,
     "metadata": {},
     "output_type": "execute_result"
    }
   ],
   "source": [
    "df_measured_2min_index.shape"
   ]
  },
  {
   "cell_type": "code",
   "execution_count": 89,
   "metadata": {
    "scrolled": true
   },
   "outputs": [
    {
     "data": {
      "text/plain": [
       "(1670, 3)"
      ]
     },
     "execution_count": 89,
     "metadata": {},
     "output_type": "execute_result"
    }
   ],
   "source": [
    "# Resample while summing every 2-min interval within an hour ('H')\n",
    "# Drop the now-unused 2min_count\n",
    "# UTC time will automatically be dropped since you can't sum it\n",
    "df_measured = df_measured_2min_index.resample('H').sum().drop(columns=['2min_count'])\n",
    "\n",
    "df_measured.shape  # (rows, columns) where column count doesn't include the index"
   ]
  },
  {
   "cell_type": "markdown",
   "metadata": {},
   "source": [
    "## Add hour, day of week, day_hour columns \n",
    "These columns will be used later for generating yearly usage profile and aggregate stats."
   ]
  },
  {
   "cell_type": "code",
   "execution_count": 90,
   "metadata": {},
   "outputs": [
    {
     "data": {
      "text/html": [
       "<div>\n",
       "<style scoped>\n",
       "    .dataframe tbody tr th:only-of-type {\n",
       "        vertical-align: middle;\n",
       "    }\n",
       "\n",
       "    .dataframe tbody tr th {\n",
       "        vertical-align: top;\n",
       "    }\n",
       "\n",
       "    .dataframe thead th {\n",
       "        text-align: right;\n",
       "    }\n",
       "</style>\n",
       "<table border=\"1\" class=\"dataframe\">\n",
       "  <thead>\n",
       "    <tr style=\"text-align: right;\">\n",
       "      <th></th>\n",
       "      <th>rpm</th>\n",
       "      <th>kw_factor</th>\n",
       "      <th>production_factor</th>\n",
       "      <th>day</th>\n",
       "      <th>hour_of_day</th>\n",
       "      <th>day_hour</th>\n",
       "    </tr>\n",
       "    <tr>\n",
       "      <th>time_local</th>\n",
       "      <th></th>\n",
       "      <th></th>\n",
       "      <th></th>\n",
       "      <th></th>\n",
       "      <th></th>\n",
       "      <th></th>\n",
       "    </tr>\n",
       "  </thead>\n",
       "  <tbody>\n",
       "    <tr>\n",
       "      <th>2018-11-05 20:00:00+03:00</th>\n",
       "      <td>0</td>\n",
       "      <td>0.00000</td>\n",
       "      <td>0.00000</td>\n",
       "      <td>0mon</td>\n",
       "      <td>20</td>\n",
       "      <td>0mon_20</td>\n",
       "    </tr>\n",
       "    <tr>\n",
       "      <th>2018-10-24 16:00:00+03:00</th>\n",
       "      <td>13844</td>\n",
       "      <td>24.94414</td>\n",
       "      <td>24.94414</td>\n",
       "      <td>2wed</td>\n",
       "      <td>16</td>\n",
       "      <td>2wed_16</td>\n",
       "    </tr>\n",
       "    <tr>\n",
       "      <th>2018-10-13 17:00:00+03:00</th>\n",
       "      <td>3510</td>\n",
       "      <td>6.32434</td>\n",
       "      <td>6.32434</td>\n",
       "      <td>5sat</td>\n",
       "      <td>17</td>\n",
       "      <td>5sat_17</td>\n",
       "    </tr>\n",
       "    <tr>\n",
       "      <th>2018-10-28 18:00:00+03:00</th>\n",
       "      <td>2591</td>\n",
       "      <td>4.66846</td>\n",
       "      <td>4.66846</td>\n",
       "      <td>6sun</td>\n",
       "      <td>18</td>\n",
       "      <td>6sun_18</td>\n",
       "    </tr>\n",
       "    <tr>\n",
       "      <th>2018-09-08 07:00:00+03:00</th>\n",
       "      <td>0</td>\n",
       "      <td>0.00000</td>\n",
       "      <td>0.00000</td>\n",
       "      <td>5sat</td>\n",
       "      <td>7</td>\n",
       "      <td>5sat_07</td>\n",
       "    </tr>\n",
       "    <tr>\n",
       "      <th>2018-09-17 12:00:00+03:00</th>\n",
       "      <td>1010</td>\n",
       "      <td>1.81982</td>\n",
       "      <td>1.81982</td>\n",
       "      <td>0mon</td>\n",
       "      <td>12</td>\n",
       "      <td>0mon_12</td>\n",
       "    </tr>\n",
       "    <tr>\n",
       "      <th>2018-10-04 14:00:00+03:00</th>\n",
       "      <td>348</td>\n",
       "      <td>0.62702</td>\n",
       "      <td>0.62702</td>\n",
       "      <td>3thu</td>\n",
       "      <td>14</td>\n",
       "      <td>3thu_14</td>\n",
       "    </tr>\n",
       "    <tr>\n",
       "      <th>2018-09-13 16:00:00+03:00</th>\n",
       "      <td>18141</td>\n",
       "      <td>32.68648</td>\n",
       "      <td>32.68648</td>\n",
       "      <td>3thu</td>\n",
       "      <td>16</td>\n",
       "      <td>3thu_16</td>\n",
       "    </tr>\n",
       "    <tr>\n",
       "      <th>2018-10-17 10:00:00+03:00</th>\n",
       "      <td>0</td>\n",
       "      <td>0.00000</td>\n",
       "      <td>0.00000</td>\n",
       "      <td>2wed</td>\n",
       "      <td>10</td>\n",
       "      <td>2wed_10</td>\n",
       "    </tr>\n",
       "    <tr>\n",
       "      <th>2018-09-27 21:00:00+03:00</th>\n",
       "      <td>0</td>\n",
       "      <td>0.00000</td>\n",
       "      <td>0.00000</td>\n",
       "      <td>3thu</td>\n",
       "      <td>21</td>\n",
       "      <td>3thu_21</td>\n",
       "    </tr>\n",
       "  </tbody>\n",
       "</table>\n",
       "</div>"
      ],
      "text/plain": [
       "                             rpm  kw_factor  production_factor   day  \\\n",
       "time_local                                                             \n",
       "2018-11-05 20:00:00+03:00      0    0.00000            0.00000  0mon   \n",
       "2018-10-24 16:00:00+03:00  13844   24.94414           24.94414  2wed   \n",
       "2018-10-13 17:00:00+03:00   3510    6.32434            6.32434  5sat   \n",
       "2018-10-28 18:00:00+03:00   2591    4.66846            4.66846  6sun   \n",
       "2018-09-08 07:00:00+03:00      0    0.00000            0.00000  5sat   \n",
       "2018-09-17 12:00:00+03:00   1010    1.81982            1.81982  0mon   \n",
       "2018-10-04 14:00:00+03:00    348    0.62702            0.62702  3thu   \n",
       "2018-09-13 16:00:00+03:00  18141   32.68648           32.68648  3thu   \n",
       "2018-10-17 10:00:00+03:00      0    0.00000            0.00000  2wed   \n",
       "2018-09-27 21:00:00+03:00      0    0.00000            0.00000  3thu   \n",
       "\n",
       "                           hour_of_day day_hour  \n",
       "time_local                                       \n",
       "2018-11-05 20:00:00+03:00           20  0mon_20  \n",
       "2018-10-24 16:00:00+03:00           16  2wed_16  \n",
       "2018-10-13 17:00:00+03:00           17  5sat_17  \n",
       "2018-10-28 18:00:00+03:00           18  6sun_18  \n",
       "2018-09-08 07:00:00+03:00            7  5sat_07  \n",
       "2018-09-17 12:00:00+03:00           12  0mon_12  \n",
       "2018-10-04 14:00:00+03:00           14  3thu_14  \n",
       "2018-09-13 16:00:00+03:00           16  3thu_16  \n",
       "2018-10-17 10:00:00+03:00           10  2wed_10  \n",
       "2018-09-27 21:00:00+03:00           21  3thu_21  "
      ]
     },
     "execution_count": 90,
     "metadata": {},
     "output_type": "execute_result"
    }
   ],
   "source": [
    "# Add the name of the day of the week to the dataframe (Saturday).\n",
    "# Prepend that name with a number of the day of the week.\n",
    "# Monday is 0, Tuesday is 1 and so on. This will allows tools to \n",
    "# order the days so they are in order: 0Monday, 1Tuesday, otherwise \n",
    "# they will be ordered alphabetical.\n",
    "df_measured[\"day\"] = df_measured.index.dayofweek.map(str) + df_measured.index.day_name()\n",
    "df_measured[\"day\"] = df_measured[\"day\"].apply(shorten_day_name)\n",
    "\n",
    "# Add hour of day (as a number)\n",
    "df_measured['hour_of_day'] = df_measured.index.hour \n",
    "\n",
    "# Add day_hour. For example: 4fri_10\n",
    "# Possible source of confusion: \n",
    "# 4fri is just friday. 4fri_10 is Friday at 10am. \n",
    "df_measured[\"day_hour\"] = df_measured.apply(lambda row: composite_val(row['day'], row['hour_of_day']), axis=1)\n",
    "\n",
    "df_measured.sample(10)"
   ]
  },
  {
   "cell_type": "markdown",
   "metadata": {},
   "source": [
    "## Generate data for yearly usage profile sampling"
   ]
  },
  {
   "cell_type": "code",
   "execution_count": 91,
   "metadata": {},
   "outputs": [],
   "source": [
    "def create_usage_profile_data(df, column):\n",
    "    \"\"\"\n",
    "    Create a dictionary, where each key is a day_hour and each value \n",
    "    is a list of measured usage factor values. \n",
    "    Takes a Pandas dataframe and returns a python dictionary that can be \n",
    "    encoded into JSON for other applications.\n",
    "    We may be able to use groupby for a more succinct function, but this works\n",
    "    \"\"\"\n",
    "    dict = defaultdict(list)\n",
    "    for index, row in df.iterrows():\n",
    "        key = row['day_hour']\n",
    "        dict[key].append(row[column])\n",
    "    return dict"
   ]
  },
  {
   "cell_type": "code",
   "execution_count": 92,
   "metadata": {},
   "outputs": [],
   "source": [
    "measured_usage_kw_factors = create_usage_profile_data(df_measured, 'kw_factor')\n",
    "# measured_usage_kw_factors"
   ]
  },
  {
   "cell_type": "code",
   "execution_count": 93,
   "metadata": {},
   "outputs": [],
   "source": [
    "measured_usage_grain_factors = create_usage_profile_data(df_measured, 'production_factor')\n",
    "# measured_usage_grain_factors"
   ]
  },
  {
   "cell_type": "markdown",
   "metadata": {},
   "source": [
    "## Export usage data for web app"
   ]
  },
  {
   "cell_type": "code",
   "execution_count": 94,
   "metadata": {},
   "outputs": [],
   "source": [
    "with open(output_generator_kw_data_name, 'w') as fp:\n",
    "    json.dump(measured_usage_kw_factors, fp)\n",
    "    \n",
    "with open(output_generator_grain_data_name, 'w') as fp:\n",
    "    json.dump(measured_usage_grain_factors, fp)"
   ]
  },
  {
   "cell_type": "markdown",
   "metadata": {},
   "source": [
    "## Generating yearly usage profile\n",
    "Now that we have usage profile data, generate a complete year's usage profile"
   ]
  },
  {
   "cell_type": "code",
   "execution_count": 95,
   "metadata": {},
   "outputs": [],
   "source": [
    "def create_year_range_df(year=2018):\n",
    "    \"\"\"\n",
    "    Creates a dataframe with a full year's dates as the index. \n",
    "    Add extra derived columns based on that datetime index: \n",
    "    (hour_of_year, day, hour_of_day, day_hour).\n",
    "    This dataframe does not contain any appliance data\n",
    "    \"\"\"\n",
    "    start_date_str = '1/1/{}'.format(year + 1)\n",
    "    start_date = pd.to_datetime(start_date_str) - pd.Timedelta(days=365)\n",
    "    hourly_periods = 8760\n",
    "    date_range = pd.date_range(start_date, periods=hourly_periods, freq='H')\n",
    "    year_hours = list(range(len(date_range)))\n",
    "    \n",
    "    # Create a full year with a datetime index (8760 hours)\n",
    "    df_year = pd.DataFrame({\"hour_of_year\": year_hours}, index=date_range)\n",
    "    \n",
    "    # Now add day of week, hour of day and day_hour columns\n",
    "    df_year['day'] = df_year.index.dayofweek.map(str) + df_year.index.day_name()\n",
    "    df_year['day'] = df_year[\"day\"].apply(shorten_day_name)\n",
    "    df_year['hour_of_day'] = df_year.index.hour\n",
    "    df_year[\"day_hour\"] = df_year.apply(lambda row: composite_val(row['day'], row['hour_of_day']), axis=1)\n",
    "    return df_year\n",
    "\n",
    "# Uncomment these to test results. \n",
    "# This function is called from generate_usage_profile() \n",
    "# df_year_example = create_year_range_df()\n",
    "# df_year_example.head()"
   ]
  },
  {
   "cell_type": "code",
   "execution_count": 96,
   "metadata": {},
   "outputs": [
    {
     "data": {
      "text/html": [
       "<div>\n",
       "<style scoped>\n",
       "    .dataframe tbody tr th:only-of-type {\n",
       "        vertical-align: middle;\n",
       "    }\n",
       "\n",
       "    .dataframe tbody tr th {\n",
       "        vertical-align: top;\n",
       "    }\n",
       "\n",
       "    .dataframe thead th {\n",
       "        text-align: right;\n",
       "    }\n",
       "</style>\n",
       "<table border=\"1\" class=\"dataframe\">\n",
       "  <thead>\n",
       "    <tr style=\"text-align: right;\">\n",
       "      <th></th>\n",
       "      <th>hour_of_year</th>\n",
       "      <th>day</th>\n",
       "      <th>hour_of_day</th>\n",
       "      <th>day_hour</th>\n",
       "      <th>kw_factor</th>\n",
       "      <th>production_factor</th>\n",
       "    </tr>\n",
       "  </thead>\n",
       "  <tbody>\n",
       "    <tr>\n",
       "      <th>2018-01-01 00:00:00</th>\n",
       "      <td>0</td>\n",
       "      <td>0mon</td>\n",
       "      <td>0</td>\n",
       "      <td>0mon_00</td>\n",
       "      <td>0.0</td>\n",
       "      <td>0.0</td>\n",
       "    </tr>\n",
       "    <tr>\n",
       "      <th>2018-01-01 01:00:00</th>\n",
       "      <td>1</td>\n",
       "      <td>0mon</td>\n",
       "      <td>1</td>\n",
       "      <td>0mon_01</td>\n",
       "      <td>0.0</td>\n",
       "      <td>0.0</td>\n",
       "    </tr>\n",
       "    <tr>\n",
       "      <th>2018-01-01 02:00:00</th>\n",
       "      <td>2</td>\n",
       "      <td>0mon</td>\n",
       "      <td>2</td>\n",
       "      <td>0mon_02</td>\n",
       "      <td>0.0</td>\n",
       "      <td>0.0</td>\n",
       "    </tr>\n",
       "    <tr>\n",
       "      <th>2018-01-01 03:00:00</th>\n",
       "      <td>3</td>\n",
       "      <td>0mon</td>\n",
       "      <td>3</td>\n",
       "      <td>0mon_03</td>\n",
       "      <td>0.0</td>\n",
       "      <td>0.0</td>\n",
       "    </tr>\n",
       "    <tr>\n",
       "      <th>2018-01-01 04:00:00</th>\n",
       "      <td>4</td>\n",
       "      <td>0mon</td>\n",
       "      <td>4</td>\n",
       "      <td>0mon_04</td>\n",
       "      <td>0.0</td>\n",
       "      <td>0.0</td>\n",
       "    </tr>\n",
       "    <tr>\n",
       "      <th>2018-01-01 05:00:00</th>\n",
       "      <td>5</td>\n",
       "      <td>0mon</td>\n",
       "      <td>5</td>\n",
       "      <td>0mon_05</td>\n",
       "      <td>0.0</td>\n",
       "      <td>0.0</td>\n",
       "    </tr>\n",
       "    <tr>\n",
       "      <th>2018-01-01 06:00:00</th>\n",
       "      <td>6</td>\n",
       "      <td>0mon</td>\n",
       "      <td>6</td>\n",
       "      <td>0mon_06</td>\n",
       "      <td>0.0</td>\n",
       "      <td>0.0</td>\n",
       "    </tr>\n",
       "    <tr>\n",
       "      <th>2018-01-01 07:00:00</th>\n",
       "      <td>7</td>\n",
       "      <td>0mon</td>\n",
       "      <td>7</td>\n",
       "      <td>0mon_07</td>\n",
       "      <td>0.0</td>\n",
       "      <td>0.0</td>\n",
       "    </tr>\n",
       "    <tr>\n",
       "      <th>2018-01-01 08:00:00</th>\n",
       "      <td>8</td>\n",
       "      <td>0mon</td>\n",
       "      <td>8</td>\n",
       "      <td>0mon_08</td>\n",
       "      <td>0.0</td>\n",
       "      <td>0.0</td>\n",
       "    </tr>\n",
       "    <tr>\n",
       "      <th>2018-01-01 09:00:00</th>\n",
       "      <td>9</td>\n",
       "      <td>0mon</td>\n",
       "      <td>9</td>\n",
       "      <td>0mon_09</td>\n",
       "      <td>0.0</td>\n",
       "      <td>0.0</td>\n",
       "    </tr>\n",
       "  </tbody>\n",
       "</table>\n",
       "</div>"
      ],
      "text/plain": [
       "                     hour_of_year   day  hour_of_day day_hour  kw_factor  \\\n",
       "2018-01-01 00:00:00             0  0mon            0  0mon_00        0.0   \n",
       "2018-01-01 01:00:00             1  0mon            1  0mon_01        0.0   \n",
       "2018-01-01 02:00:00             2  0mon            2  0mon_02        0.0   \n",
       "2018-01-01 03:00:00             3  0mon            3  0mon_03        0.0   \n",
       "2018-01-01 04:00:00             4  0mon            4  0mon_04        0.0   \n",
       "2018-01-01 05:00:00             5  0mon            5  0mon_05        0.0   \n",
       "2018-01-01 06:00:00             6  0mon            6  0mon_06        0.0   \n",
       "2018-01-01 07:00:00             7  0mon            7  0mon_07        0.0   \n",
       "2018-01-01 08:00:00             8  0mon            8  0mon_08        0.0   \n",
       "2018-01-01 09:00:00             9  0mon            9  0mon_09        0.0   \n",
       "\n",
       "                     production_factor  \n",
       "2018-01-01 00:00:00                0.0  \n",
       "2018-01-01 01:00:00                0.0  \n",
       "2018-01-01 02:00:00                0.0  \n",
       "2018-01-01 03:00:00                0.0  \n",
       "2018-01-01 04:00:00                0.0  \n",
       "2018-01-01 05:00:00                0.0  \n",
       "2018-01-01 06:00:00                0.0  \n",
       "2018-01-01 07:00:00                0.0  \n",
       "2018-01-01 08:00:00                0.0  \n",
       "2018-01-01 09:00:00                0.0  "
      ]
     },
     "execution_count": 96,
     "metadata": {},
     "output_type": "execute_result"
    }
   ],
   "source": [
    "#df_year['kw_factor'] = df_year.apply(partial(sample_usage_index, kw_factor), axis=1)\n",
    "# df_year['production_factor'] = df_year.apply(partial(sample_usage_index, production_factor), axis=1) \n",
    "\n",
    "\n",
    "def sample_usage_index(usage_factors, day_hour):\n",
    "    \"\"\"\n",
    "    Takes the measured usage dictionary and a dataframe row\n",
    "    from the empty yearly profile created in create_year_range_df. \n",
    "    Using the day_hour from that dataframe row, take a random\n",
    "    sample of the same day_hour from the measured data.\n",
    "    \"\"\"\n",
    "    choice_index_range = range(len(usage_factors[day_hour]))\n",
    "    return random.choice(choice_index_range)\n",
    "    \n",
    "\n",
    "def generate_usage_profile(kw_factors, production_factors, year=2018):\n",
    "    \"\"\"\n",
    "    Generate a full year's usage profile by sampling measured data \n",
    "    Takes the measured usage dictionary for both kW and grain factor\n",
    "    and optional year.\n",
    "    Returns a dataframe of hourly intevals with sampled appliance values\n",
    "    \"\"\"\n",
    "    # Create dataframe with a full year of hourly intervals\n",
    "    df_year = create_year_range_df(year)\n",
    "\n",
    "    # We need to make sure we take the same sample from both kw_factors and production_factors\n",
    "    # So instead of returning a factor from the sampling, return an index of the list of factors  \n",
    "    for row_index, row in df_year.iterrows():\n",
    "        day_hour = row['day_hour']\n",
    "        usage_index = sample_usage_index(kw_factors, day_hour)\n",
    "        \n",
    "        # Add new columns with the sample values\n",
    "        df_year.at[row_index, 'kw_factor'] = kw_factors[day_hour][usage_index]\n",
    "        df_year.at[row_index, 'production_factor'] = production_factors[day_hour][usage_index]\n",
    "        \n",
    "    return df_year\n",
    "\n",
    "\n",
    "df_generated_usage_profile = generate_usage_profile(measured_usage_kw_factors, measured_usage_grain_factors)\n",
    "df_generated_usage_profile.head(10)"
   ]
  },
  {
   "cell_type": "code",
   "execution_count": 97,
   "metadata": {},
   "outputs": [
    {
     "data": {
      "text/html": [
       "<div>\n",
       "<style scoped>\n",
       "    .dataframe tbody tr th:only-of-type {\n",
       "        vertical-align: middle;\n",
       "    }\n",
       "\n",
       "    .dataframe tbody tr th {\n",
       "        vertical-align: top;\n",
       "    }\n",
       "\n",
       "    .dataframe thead th {\n",
       "        text-align: right;\n",
       "    }\n",
       "</style>\n",
       "<table border=\"1\" class=\"dataframe\">\n",
       "  <thead>\n",
       "    <tr style=\"text-align: right;\">\n",
       "      <th></th>\n",
       "      <th>hour_of_year</th>\n",
       "      <th>hour_of_day</th>\n",
       "      <th>kw_factor</th>\n",
       "      <th>production_factor</th>\n",
       "    </tr>\n",
       "  </thead>\n",
       "  <tbody>\n",
       "    <tr>\n",
       "      <th>count</th>\n",
       "      <td>8760.000000</td>\n",
       "      <td>8760.000000</td>\n",
       "      <td>8760.000000</td>\n",
       "      <td>8760.000000</td>\n",
       "    </tr>\n",
       "    <tr>\n",
       "      <th>mean</th>\n",
       "      <td>4379.500000</td>\n",
       "      <td>11.500000</td>\n",
       "      <td>3.357988</td>\n",
       "      <td>3.357988</td>\n",
       "    </tr>\n",
       "    <tr>\n",
       "      <th>std</th>\n",
       "      <td>2528.938512</td>\n",
       "      <td>6.922582</td>\n",
       "      <td>7.698729</td>\n",
       "      <td>7.698729</td>\n",
       "    </tr>\n",
       "    <tr>\n",
       "      <th>min</th>\n",
       "      <td>0.000000</td>\n",
       "      <td>0.000000</td>\n",
       "      <td>0.000000</td>\n",
       "      <td>0.000000</td>\n",
       "    </tr>\n",
       "    <tr>\n",
       "      <th>25%</th>\n",
       "      <td>2189.750000</td>\n",
       "      <td>5.750000</td>\n",
       "      <td>0.000000</td>\n",
       "      <td>0.000000</td>\n",
       "    </tr>\n",
       "    <tr>\n",
       "      <th>50%</th>\n",
       "      <td>4379.500000</td>\n",
       "      <td>11.500000</td>\n",
       "      <td>0.000000</td>\n",
       "      <td>0.000000</td>\n",
       "    </tr>\n",
       "    <tr>\n",
       "      <th>75%</th>\n",
       "      <td>6569.250000</td>\n",
       "      <td>17.250000</td>\n",
       "      <td>2.036020</td>\n",
       "      <td>2.036020</td>\n",
       "    </tr>\n",
       "    <tr>\n",
       "      <th>max</th>\n",
       "      <td>8759.000000</td>\n",
       "      <td>23.000000</td>\n",
       "      <td>56.522580</td>\n",
       "      <td>56.522580</td>\n",
       "    </tr>\n",
       "  </tbody>\n",
       "</table>\n",
       "</div>"
      ],
      "text/plain": [
       "       hour_of_year  hour_of_day    kw_factor  production_factor\n",
       "count   8760.000000  8760.000000  8760.000000        8760.000000\n",
       "mean    4379.500000    11.500000     3.357988           3.357988\n",
       "std     2528.938512     6.922582     7.698729           7.698729\n",
       "min        0.000000     0.000000     0.000000           0.000000\n",
       "25%     2189.750000     5.750000     0.000000           0.000000\n",
       "50%     4379.500000    11.500000     0.000000           0.000000\n",
       "75%     6569.250000    17.250000     2.036020           2.036020\n",
       "max     8759.000000    23.000000    56.522580          56.522580"
      ]
     },
     "execution_count": 97,
     "metadata": {},
     "output_type": "execute_result"
    }
   ],
   "source": [
    "df_generated_usage_profile.describe()"
   ]
  },
  {
   "cell_type": "code",
   "execution_count": 98,
   "metadata": {},
   "outputs": [
    {
     "data": {
      "text/html": [
       "\n",
       "        <iframe\n",
       "            width=\"100%\"\n",
       "            height=\"500\"\n",
       "            src=\"pivottablejs.html\"\n",
       "            frameborder=\"0\"\n",
       "            allowfullscreen\n",
       "        ></iframe>\n",
       "        "
      ],
      "text/plain": [
       "<IPython.lib.display.IFrame at 0x10e564908>"
      ]
     },
     "execution_count": 98,
     "metadata": {},
     "output_type": "execute_result"
    }
   ],
   "source": [
    "# Measured Hourly Averages\n",
    "pivot_ui(df_measured,\n",
    "        cols=['hour_of_day'],\n",
    "        rendererName='Table Barchart',\n",
    "        aggregatorName='Average',\n",
    "        vals=['kw_factor'])"
   ]
  },
  {
   "cell_type": "code",
   "execution_count": 99,
   "metadata": {},
   "outputs": [],
   "source": [
    "# ![Screenshot](screenshots/rice_mill_measured_hourly_avg.png)"
   ]
  },
  {
   "cell_type": "code",
   "execution_count": 100,
   "metadata": {},
   "outputs": [
    {
     "data": {
      "text/html": [
       "\n",
       "        <iframe\n",
       "            width=\"100%\"\n",
       "            height=\"500\"\n",
       "            src=\"pivottablejs.html\"\n",
       "            frameborder=\"0\"\n",
       "            allowfullscreen\n",
       "        ></iframe>\n",
       "        "
      ],
      "text/plain": [
       "<IPython.lib.display.IFrame at 0x10ddc7198>"
      ]
     },
     "execution_count": 100,
     "metadata": {},
     "output_type": "execute_result"
    }
   ],
   "source": [
    "# Generated Hourly Averages\n",
    "pivot_ui(df_generated_usage_profile,\n",
    "        cols=['hour_of_day'],\n",
    "        rendererName='Table Barchart',\n",
    "        aggregatorName='Average',\n",
    "        vals=['kw_factor'])"
   ]
  },
  {
   "cell_type": "code",
   "execution_count": 101,
   "metadata": {},
   "outputs": [],
   "source": [
    "# ![Screenshot](screenshots/rice_mill_generated_hourly_avg.png)"
   ]
  },
  {
   "cell_type": "code",
   "execution_count": 102,
   "metadata": {},
   "outputs": [],
   "source": [
    "# ![Screenshot](screenshots/rice_mill_measured_daily_avg.png)"
   ]
  },
  {
   "cell_type": "code",
   "execution_count": 103,
   "metadata": {
    "scrolled": false
   },
   "outputs": [
    {
     "data": {
      "text/html": [
       "\n",
       "        <iframe\n",
       "            width=\"100%\"\n",
       "            height=\"500\"\n",
       "            src=\"pivottablejs.html\"\n",
       "            frameborder=\"0\"\n",
       "            allowfullscreen\n",
       "        ></iframe>\n",
       "        "
      ],
      "text/plain": [
       "<IPython.lib.display.IFrame at 0x10ddc7208>"
      ]
     },
     "execution_count": 103,
     "metadata": {},
     "output_type": "execute_result"
    }
   ],
   "source": [
    "# Measured Daily Averages\n",
    "pivot_ui(df_measured,\n",
    "        cols=['day'],\n",
    "        rendererName='Table Barchart',\n",
    "        aggregatorName='Average',\n",
    "        vals=['kw_factor'])"
   ]
  },
  {
   "cell_type": "code",
   "execution_count": 104,
   "metadata": {},
   "outputs": [
    {
     "data": {
      "text/html": [
       "\n",
       "        <iframe\n",
       "            width=\"100%\"\n",
       "            height=\"500\"\n",
       "            src=\"pivottablejs.html\"\n",
       "            frameborder=\"0\"\n",
       "            allowfullscreen\n",
       "        ></iframe>\n",
       "        "
      ],
      "text/plain": [
       "<IPython.lib.display.IFrame at 0x10ddc7320>"
      ]
     },
     "execution_count": 104,
     "metadata": {},
     "output_type": "execute_result"
    }
   ],
   "source": [
    "# Generated Daily Averages\n",
    "pivot_ui(df_generated_usage_profile,\n",
    "        cols=['day'],\n",
    "        rendererName='Table Barchart',\n",
    "        aggregatorName='Average',\n",
    "        vals=['kw_factor'])"
   ]
  },
  {
   "cell_type": "code",
   "execution_count": 105,
   "metadata": {},
   "outputs": [],
   "source": [
    "# ![Screenshot](screenshots/rice_mill_generated_daily_avg.png)"
   ]
  },
  {
   "cell_type": "code",
   "execution_count": 106,
   "metadata": {},
   "outputs": [
    {
     "data": {
      "text/plain": [
       "<matplotlib.axes._subplots.AxesSubplot at 0x10ddc7da0>"
      ]
     },
     "execution_count": 106,
     "metadata": {},
     "output_type": "execute_result"
    },
    {
     "data": {
      "image/png": "[encoded data removed]",
      "text/plain": [
       "<matplotlib.figure.Figure at 0x10ddc7710>"
      ]
     },
     "metadata": {},
     "output_type": "display_data"
    }
   ],
   "source": [
    "# Show a week's worth of mill usage:\n",
    "df_week_6 = df_generated_usage_profile.loc[df_generated_usage_profile.index.week == 5]\n",
    "df_week_6.plot(y='kw_factor', figsize=(20, 4))"
   ]
  },
  {
   "cell_type": "code",
   "execution_count": 107,
   "metadata": {},
   "outputs": [
    {
     "data": {
      "text/plain": [
       "<matplotlib.axes._subplots.AxesSubplot at 0x10e2e29b0>"
      ]
     },
     "execution_count": 107,
     "metadata": {},
     "output_type": "execute_result"
    },
    {
     "data": {
      "image/png": "[encoded data removed]",
      "text/plain": [
       "<matplotlib.figure.Figure at 0x10e2ae128>"
      ]
     },
     "metadata": {},
     "output_type": "display_data"
    }
   ],
   "source": [
    "# Show a month's worth of mill usage:\n",
    "df_february = df_generated_usage_profile.loc[df_generated_usage_profile.index.month == 4]\n",
    "df_february.plot(y='kw_factor', figsize=(20, 4))"
   ]
  },
  {
   "cell_type": "code",
   "execution_count": 108,
   "metadata": {},
   "outputs": [
    {
     "data": {
      "text/plain": [
       "<matplotlib.axes._subplots.AxesSubplot at 0x1a0f2b10b8>"
      ]
     },
     "execution_count": 108,
     "metadata": {},
     "output_type": "execute_result"
    },
    {
     "data": {
      "image/png": "[encoded data removed]",
      "text/plain": [
       "<matplotlib.figure.Figure at 0x1a0f2a10f0>"
      ]
     },
     "metadata": {},
     "output_type": "display_data"
    }
   ],
   "source": [
    "# Show entire year's worth of mill usage:\n",
    "df_generated_usage_profile.plot(y='kw_factor', figsize=(20, 4))"
   ]
  },
  {
   "cell_type": "markdown",
   "metadata": {},
   "source": [
    "## Export yearly usage profile \n",
    "The web app doesn't need this data but it can be used for other analysis"
   ]
  },
  {
   "cell_type": "code",
   "execution_count": 109,
   "metadata": {},
   "outputs": [
    {
     "name": "stdout",
     "output_type": "stream",
     "text": [
      "outputting to:  output/rice_mill_usage_profile.csv\n"
     ]
    }
   ],
   "source": [
    "print(\"outputting to: \", output_profile_name)\n",
    "df_generated_usage_profile.to_csv(output_profile_name, index_label='datetime')"
   ]
  },
  {
   "cell_type": "code",
   "execution_count": null,
   "metadata": {},
   "outputs": [],
   "source": []
  }
 ],
 "metadata": {
  "kernelspec": {
   "display_name": "Python 3",
   "language": "python",
   "name": "python3"
  },
  "language_info": {
   "codemirror_mode": {
    "name": "ipython",
    "version": 3
   },
   "file_extension": ".py",
   "mimetype": "text/x-python",
   "name": "python",
   "nbconvert_exporter": "python",
   "pygments_lexer": "ipython3",
   "version": "3.6.4"
  }
 },
 "nbformat": 4,
 "nbformat_minor": 2
}
